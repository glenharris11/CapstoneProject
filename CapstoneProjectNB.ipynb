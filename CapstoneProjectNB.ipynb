{
 "cells": [
  {
   "cell_type": "code",
   "execution_count": 1,
   "id": "85146809-3cbb-46f4-8adf-e3cec22ffbf6",
   "metadata": {},
   "outputs": [
    {
     "name": "stdout",
     "output_type": "stream",
     "text": [
      "/Users/glenharris/Documents\n"
     ]
    }
   ],
   "source": [
    "#ML model for predicting the sales price for a home in Ames, Iowa. \n",
    "\n",
    "#import tools needed\n",
    "\n",
    "import pandas as pd\n",
    "import numpy as np\n",
    "import seaborn as sns\n",
    "import matplotlib.pyplot as plt\n",
    "import sklearn\n",
    "\n",
    "%cd /Users/glenharris/Documents"
   ]
  },
  {
   "cell_type": "code",
   "execution_count": 2,
   "id": "aae27545-0c76-48fc-afed-cd067fb7e3d7",
   "metadata": {},
   "outputs": [],
   "source": [
    "#upload three csv files that were previously split.\n",
    "\n",
    "train = pd.read_csv('train.csv')\n",
    "test = pd.read_csv('test.csv')\n",
    "target_row = pd.read_csv('sample_submission.csv')"
   ]
  },
  {
   "cell_type": "code",
   "execution_count": 3,
   "id": "dbecc0b2-b634-4e19-8635-d22b70cf8776",
   "metadata": {},
   "outputs": [],
   "source": [
    "#I want to split the data and have a higher amount for the training set. I would prefer 80/20 split rather than 50/50. \n",
    "#Combine the tests set feature and target. \n",
    "\n",
    "combined_test = pd.merge(test, target_row, on='Id')\n",
    "\n",
    "#Change SalePrice to integer. \n",
    "\n",
    "combined_test['SalePrice'] = combined_test['SalePrice'].astype(int)\n",
    "\n",
    "#combine both data sets. \n",
    "\n",
    "sales_df_combined = pd.concat([train, combined_test], ignore_index=True)\n",
    "\n"
   ]
  },
  {
   "cell_type": "code",
   "execution_count": 4,
   "id": "3447b113-9fdc-421c-b26f-c5ae4a511ecc",
   "metadata": {},
   "outputs": [],
   "source": [
    "#Dropping Id column since it is not needed. \n",
    "\n",
    "sales_df = sales_df_combined.drop(columns='Id', axis=1)\n"
   ]
  },
  {
   "cell_type": "code",
   "execution_count": 5,
   "id": "3c5f773d-5aa1-48a4-8e8b-6ada10db7821",
   "metadata": {},
   "outputs": [
    {
     "name": "stdout",
     "output_type": "stream",
     "text": [
      "<class 'pandas.core.frame.DataFrame'>\n",
      "RangeIndex: 2919 entries, 0 to 2918\n",
      "Data columns (total 80 columns):\n",
      " #   Column         Non-Null Count  Dtype  \n",
      "---  ------         --------------  -----  \n",
      " 0   MSSubClass     2919 non-null   int64  \n",
      " 1   MSZoning       2915 non-null   object \n",
      " 2   LotFrontage    2433 non-null   float64\n",
      " 3   LotArea        2919 non-null   int64  \n",
      " 4   Street         2919 non-null   object \n",
      " 5   Alley          198 non-null    object \n",
      " 6   LotShape       2919 non-null   object \n",
      " 7   LandContour    2919 non-null   object \n",
      " 8   Utilities      2917 non-null   object \n",
      " 9   LotConfig      2919 non-null   object \n",
      " 10  LandSlope      2919 non-null   object \n",
      " 11  Neighborhood   2919 non-null   object \n",
      " 12  Condition1     2919 non-null   object \n",
      " 13  Condition2     2919 non-null   object \n",
      " 14  BldgType       2919 non-null   object \n",
      " 15  HouseStyle     2919 non-null   object \n",
      " 16  OverallQual    2919 non-null   int64  \n",
      " 17  OverallCond    2919 non-null   int64  \n",
      " 18  YearBuilt      2919 non-null   int64  \n",
      " 19  YearRemodAdd   2919 non-null   int64  \n",
      " 20  RoofStyle      2919 non-null   object \n",
      " 21  RoofMatl       2919 non-null   object \n",
      " 22  Exterior1st    2918 non-null   object \n",
      " 23  Exterior2nd    2918 non-null   object \n",
      " 24  MasVnrType     1153 non-null   object \n",
      " 25  MasVnrArea     2896 non-null   float64\n",
      " 26  ExterQual      2919 non-null   object \n",
      " 27  ExterCond      2919 non-null   object \n",
      " 28  Foundation     2919 non-null   object \n",
      " 29  BsmtQual       2838 non-null   object \n",
      " 30  BsmtCond       2837 non-null   object \n",
      " 31  BsmtExposure   2837 non-null   object \n",
      " 32  BsmtFinType1   2840 non-null   object \n",
      " 33  BsmtFinSF1     2918 non-null   float64\n",
      " 34  BsmtFinType2   2839 non-null   object \n",
      " 35  BsmtFinSF2     2918 non-null   float64\n",
      " 36  BsmtUnfSF      2918 non-null   float64\n",
      " 37  TotalBsmtSF    2918 non-null   float64\n",
      " 38  Heating        2919 non-null   object \n",
      " 39  HeatingQC      2919 non-null   object \n",
      " 40  CentralAir     2919 non-null   object \n",
      " 41  Electrical     2918 non-null   object \n",
      " 42  1stFlrSF       2919 non-null   int64  \n",
      " 43  2ndFlrSF       2919 non-null   int64  \n",
      " 44  LowQualFinSF   2919 non-null   int64  \n",
      " 45  GrLivArea      2919 non-null   int64  \n",
      " 46  BsmtFullBath   2917 non-null   float64\n",
      " 47  BsmtHalfBath   2917 non-null   float64\n",
      " 48  FullBath       2919 non-null   int64  \n",
      " 49  HalfBath       2919 non-null   int64  \n",
      " 50  BedroomAbvGr   2919 non-null   int64  \n",
      " 51  KitchenAbvGr   2919 non-null   int64  \n",
      " 52  KitchenQual    2918 non-null   object \n",
      " 53  TotRmsAbvGrd   2919 non-null   int64  \n",
      " 54  Functional     2917 non-null   object \n",
      " 55  Fireplaces     2919 non-null   int64  \n",
      " 56  FireplaceQu    1499 non-null   object \n",
      " 57  GarageType     2762 non-null   object \n",
      " 58  GarageYrBlt    2760 non-null   float64\n",
      " 59  GarageFinish   2760 non-null   object \n",
      " 60  GarageCars     2918 non-null   float64\n",
      " 61  GarageArea     2918 non-null   float64\n",
      " 62  GarageQual     2760 non-null   object \n",
      " 63  GarageCond     2760 non-null   object \n",
      " 64  PavedDrive     2919 non-null   object \n",
      " 65  WoodDeckSF     2919 non-null   int64  \n",
      " 66  OpenPorchSF    2919 non-null   int64  \n",
      " 67  EnclosedPorch  2919 non-null   int64  \n",
      " 68  3SsnPorch      2919 non-null   int64  \n",
      " 69  ScreenPorch    2919 non-null   int64  \n",
      " 70  PoolArea       2919 non-null   int64  \n",
      " 71  PoolQC         10 non-null     object \n",
      " 72  Fence          571 non-null    object \n",
      " 73  MiscFeature    105 non-null    object \n",
      " 74  MiscVal        2919 non-null   int64  \n",
      " 75  MoSold         2919 non-null   int64  \n",
      " 76  YrSold         2919 non-null   int64  \n",
      " 77  SaleType       2918 non-null   object \n",
      " 78  SaleCondition  2919 non-null   object \n",
      " 79  SalePrice      2919 non-null   int64  \n",
      "dtypes: float64(11), int64(26), object(43)\n",
      "memory usage: 1.8+ MB\n"
     ]
    }
   ],
   "source": [
    "#review original dataframe, look at data types and null values without diving further into the data\n",
    "\n",
    "sales_df.info()"
   ]
  },
  {
   "cell_type": "code",
   "execution_count": 6,
   "id": "5323eb14-fcda-45c4-ba7b-30e758a3d7e8",
   "metadata": {},
   "outputs": [],
   "source": [
    "# After a quick review I decided to drop columns that are missing large amount of data that exceeds over 50% of null values.\n",
    "# I do not want to imput majority of data in a feature, the remaining nulls will be imputed later \n",
    "\n",
    "dropped_col = ['Alley', 'MasVnrType', 'MasVnrArea', 'PoolQC', 'Fence', 'MiscFeature', 'MiscVal', 'FireplaceQu']\n",
    "\n",
    "sales_df_reduced = sales_df.drop(columns=dropped_col, axis=1)"
   ]
  },
  {
   "cell_type": "code",
   "execution_count": 7,
   "id": "5168d5e3-2798-4ba9-a35c-4d81f34a9539",
   "metadata": {},
   "outputs": [],
   "source": [
    "#Split the dataframe into a feature and target dataframe \n",
    "\n",
    "sales_features = sales_df_reduced.drop(['SalePrice'], axis=1)\n",
    "\n",
    "sales_target = sales_df_reduced['SalePrice'].copy()"
   ]
  },
  {
   "cell_type": "code",
   "execution_count": 8,
   "id": "ac53c11b-fcc4-4f28-867e-402e2f89ce13",
   "metadata": {},
   "outputs": [],
   "source": [
    "#split into training and test sets before reviewing the data to prevent data leakage\n",
    "\n",
    "from sklearn.model_selection import train_test_split\n",
    "\n",
    "x_train, x_test, y_train, y_test = train_test_split(sales_features, sales_target, test_size=.2, random_state=42)"
   ]
  },
  {
   "cell_type": "code",
   "execution_count": 9,
   "id": "50f5889c-bea4-4138-a292-823b04285bf3",
   "metadata": {},
   "outputs": [
    {
     "data": {
      "text/html": [
       "<div>\n",
       "<style scoped>\n",
       "    .dataframe tbody tr th:only-of-type {\n",
       "        vertical-align: middle;\n",
       "    }\n",
       "\n",
       "    .dataframe tbody tr th {\n",
       "        vertical-align: top;\n",
       "    }\n",
       "\n",
       "    .dataframe thead th {\n",
       "        text-align: right;\n",
       "    }\n",
       "</style>\n",
       "<table border=\"1\" class=\"dataframe\">\n",
       "  <thead>\n",
       "    <tr style=\"text-align: right;\">\n",
       "      <th></th>\n",
       "      <th>MSSubClass</th>\n",
       "      <th>LotFrontage</th>\n",
       "      <th>LotArea</th>\n",
       "      <th>OverallQual</th>\n",
       "      <th>OverallCond</th>\n",
       "      <th>YearBuilt</th>\n",
       "      <th>YearRemodAdd</th>\n",
       "      <th>BsmtFinSF1</th>\n",
       "      <th>BsmtFinSF2</th>\n",
       "      <th>BsmtUnfSF</th>\n",
       "      <th>...</th>\n",
       "      <th>GarageArea</th>\n",
       "      <th>WoodDeckSF</th>\n",
       "      <th>OpenPorchSF</th>\n",
       "      <th>EnclosedPorch</th>\n",
       "      <th>3SsnPorch</th>\n",
       "      <th>ScreenPorch</th>\n",
       "      <th>PoolArea</th>\n",
       "      <th>MoSold</th>\n",
       "      <th>YrSold</th>\n",
       "      <th>SalePrice</th>\n",
       "    </tr>\n",
       "  </thead>\n",
       "  <tbody>\n",
       "    <tr>\n",
       "      <th>count</th>\n",
       "      <td>2919.000000</td>\n",
       "      <td>2433.000000</td>\n",
       "      <td>2919.000000</td>\n",
       "      <td>2919.000000</td>\n",
       "      <td>2919.000000</td>\n",
       "      <td>2919.000000</td>\n",
       "      <td>2919.000000</td>\n",
       "      <td>2918.000000</td>\n",
       "      <td>2918.000000</td>\n",
       "      <td>2918.000000</td>\n",
       "      <td>...</td>\n",
       "      <td>2918.000000</td>\n",
       "      <td>2919.000000</td>\n",
       "      <td>2919.000000</td>\n",
       "      <td>2919.000000</td>\n",
       "      <td>2919.000000</td>\n",
       "      <td>2919.000000</td>\n",
       "      <td>2919.000000</td>\n",
       "      <td>2919.000000</td>\n",
       "      <td>2919.000000</td>\n",
       "      <td>2919.000000</td>\n",
       "    </tr>\n",
       "    <tr>\n",
       "      <th>mean</th>\n",
       "      <td>57.137718</td>\n",
       "      <td>69.305795</td>\n",
       "      <td>10168.114080</td>\n",
       "      <td>6.089072</td>\n",
       "      <td>5.564577</td>\n",
       "      <td>1971.312778</td>\n",
       "      <td>1984.264474</td>\n",
       "      <td>441.423235</td>\n",
       "      <td>49.582248</td>\n",
       "      <td>560.772104</td>\n",
       "      <td>...</td>\n",
       "      <td>472.874572</td>\n",
       "      <td>93.709832</td>\n",
       "      <td>47.486811</td>\n",
       "      <td>23.098321</td>\n",
       "      <td>2.602261</td>\n",
       "      <td>16.062350</td>\n",
       "      <td>2.251799</td>\n",
       "      <td>6.213087</td>\n",
       "      <td>2007.792737</td>\n",
       "      <td>180052.602261</td>\n",
       "    </tr>\n",
       "    <tr>\n",
       "      <th>std</th>\n",
       "      <td>42.517628</td>\n",
       "      <td>23.344905</td>\n",
       "      <td>7886.996359</td>\n",
       "      <td>1.409947</td>\n",
       "      <td>1.113131</td>\n",
       "      <td>30.291442</td>\n",
       "      <td>20.894344</td>\n",
       "      <td>455.610826</td>\n",
       "      <td>169.205611</td>\n",
       "      <td>439.543659</td>\n",
       "      <td>...</td>\n",
       "      <td>215.394815</td>\n",
       "      <td>126.526589</td>\n",
       "      <td>67.575493</td>\n",
       "      <td>64.244246</td>\n",
       "      <td>25.188169</td>\n",
       "      <td>56.184365</td>\n",
       "      <td>35.663946</td>\n",
       "      <td>2.714762</td>\n",
       "      <td>1.314964</td>\n",
       "      <td>57381.570984</td>\n",
       "    </tr>\n",
       "    <tr>\n",
       "      <th>min</th>\n",
       "      <td>20.000000</td>\n",
       "      <td>21.000000</td>\n",
       "      <td>1300.000000</td>\n",
       "      <td>1.000000</td>\n",
       "      <td>1.000000</td>\n",
       "      <td>1872.000000</td>\n",
       "      <td>1950.000000</td>\n",
       "      <td>0.000000</td>\n",
       "      <td>0.000000</td>\n",
       "      <td>0.000000</td>\n",
       "      <td>...</td>\n",
       "      <td>0.000000</td>\n",
       "      <td>0.000000</td>\n",
       "      <td>0.000000</td>\n",
       "      <td>0.000000</td>\n",
       "      <td>0.000000</td>\n",
       "      <td>0.000000</td>\n",
       "      <td>0.000000</td>\n",
       "      <td>1.000000</td>\n",
       "      <td>2006.000000</td>\n",
       "      <td>34900.000000</td>\n",
       "    </tr>\n",
       "    <tr>\n",
       "      <th>25%</th>\n",
       "      <td>20.000000</td>\n",
       "      <td>59.000000</td>\n",
       "      <td>7478.000000</td>\n",
       "      <td>5.000000</td>\n",
       "      <td>5.000000</td>\n",
       "      <td>1953.500000</td>\n",
       "      <td>1965.000000</td>\n",
       "      <td>0.000000</td>\n",
       "      <td>0.000000</td>\n",
       "      <td>220.000000</td>\n",
       "      <td>...</td>\n",
       "      <td>320.000000</td>\n",
       "      <td>0.000000</td>\n",
       "      <td>0.000000</td>\n",
       "      <td>0.000000</td>\n",
       "      <td>0.000000</td>\n",
       "      <td>0.000000</td>\n",
       "      <td>0.000000</td>\n",
       "      <td>4.000000</td>\n",
       "      <td>2007.000000</td>\n",
       "      <td>154794.500000</td>\n",
       "    </tr>\n",
       "    <tr>\n",
       "      <th>50%</th>\n",
       "      <td>50.000000</td>\n",
       "      <td>68.000000</td>\n",
       "      <td>9453.000000</td>\n",
       "      <td>6.000000</td>\n",
       "      <td>5.000000</td>\n",
       "      <td>1973.000000</td>\n",
       "      <td>1993.000000</td>\n",
       "      <td>368.500000</td>\n",
       "      <td>0.000000</td>\n",
       "      <td>467.000000</td>\n",
       "      <td>...</td>\n",
       "      <td>480.000000</td>\n",
       "      <td>0.000000</td>\n",
       "      <td>26.000000</td>\n",
       "      <td>0.000000</td>\n",
       "      <td>0.000000</td>\n",
       "      <td>0.000000</td>\n",
       "      <td>0.000000</td>\n",
       "      <td>6.000000</td>\n",
       "      <td>2008.000000</td>\n",
       "      <td>176734.000000</td>\n",
       "    </tr>\n",
       "    <tr>\n",
       "      <th>75%</th>\n",
       "      <td>70.000000</td>\n",
       "      <td>80.000000</td>\n",
       "      <td>11570.000000</td>\n",
       "      <td>7.000000</td>\n",
       "      <td>6.000000</td>\n",
       "      <td>2001.000000</td>\n",
       "      <td>2004.000000</td>\n",
       "      <td>733.000000</td>\n",
       "      <td>0.000000</td>\n",
       "      <td>805.500000</td>\n",
       "      <td>...</td>\n",
       "      <td>576.000000</td>\n",
       "      <td>168.000000</td>\n",
       "      <td>70.000000</td>\n",
       "      <td>0.000000</td>\n",
       "      <td>0.000000</td>\n",
       "      <td>0.000000</td>\n",
       "      <td>0.000000</td>\n",
       "      <td>8.000000</td>\n",
       "      <td>2009.000000</td>\n",
       "      <td>191895.000000</td>\n",
       "    </tr>\n",
       "    <tr>\n",
       "      <th>max</th>\n",
       "      <td>190.000000</td>\n",
       "      <td>313.000000</td>\n",
       "      <td>215245.000000</td>\n",
       "      <td>10.000000</td>\n",
       "      <td>9.000000</td>\n",
       "      <td>2010.000000</td>\n",
       "      <td>2010.000000</td>\n",
       "      <td>5644.000000</td>\n",
       "      <td>1526.000000</td>\n",
       "      <td>2336.000000</td>\n",
       "      <td>...</td>\n",
       "      <td>1488.000000</td>\n",
       "      <td>1424.000000</td>\n",
       "      <td>742.000000</td>\n",
       "      <td>1012.000000</td>\n",
       "      <td>508.000000</td>\n",
       "      <td>576.000000</td>\n",
       "      <td>800.000000</td>\n",
       "      <td>12.000000</td>\n",
       "      <td>2010.000000</td>\n",
       "      <td>755000.000000</td>\n",
       "    </tr>\n",
       "  </tbody>\n",
       "</table>\n",
       "<p>8 rows × 35 columns</p>\n",
       "</div>"
      ],
      "text/plain": [
       "        MSSubClass  LotFrontage        LotArea  OverallQual  OverallCond  \\\n",
       "count  2919.000000  2433.000000    2919.000000  2919.000000  2919.000000   \n",
       "mean     57.137718    69.305795   10168.114080     6.089072     5.564577   \n",
       "std      42.517628    23.344905    7886.996359     1.409947     1.113131   \n",
       "min      20.000000    21.000000    1300.000000     1.000000     1.000000   \n",
       "25%      20.000000    59.000000    7478.000000     5.000000     5.000000   \n",
       "50%      50.000000    68.000000    9453.000000     6.000000     5.000000   \n",
       "75%      70.000000    80.000000   11570.000000     7.000000     6.000000   \n",
       "max     190.000000   313.000000  215245.000000    10.000000     9.000000   \n",
       "\n",
       "         YearBuilt  YearRemodAdd   BsmtFinSF1   BsmtFinSF2    BsmtUnfSF  ...  \\\n",
       "count  2919.000000   2919.000000  2918.000000  2918.000000  2918.000000  ...   \n",
       "mean   1971.312778   1984.264474   441.423235    49.582248   560.772104  ...   \n",
       "std      30.291442     20.894344   455.610826   169.205611   439.543659  ...   \n",
       "min    1872.000000   1950.000000     0.000000     0.000000     0.000000  ...   \n",
       "25%    1953.500000   1965.000000     0.000000     0.000000   220.000000  ...   \n",
       "50%    1973.000000   1993.000000   368.500000     0.000000   467.000000  ...   \n",
       "75%    2001.000000   2004.000000   733.000000     0.000000   805.500000  ...   \n",
       "max    2010.000000   2010.000000  5644.000000  1526.000000  2336.000000  ...   \n",
       "\n",
       "        GarageArea   WoodDeckSF  OpenPorchSF  EnclosedPorch    3SsnPorch  \\\n",
       "count  2918.000000  2919.000000  2919.000000    2919.000000  2919.000000   \n",
       "mean    472.874572    93.709832    47.486811      23.098321     2.602261   \n",
       "std     215.394815   126.526589    67.575493      64.244246    25.188169   \n",
       "min       0.000000     0.000000     0.000000       0.000000     0.000000   \n",
       "25%     320.000000     0.000000     0.000000       0.000000     0.000000   \n",
       "50%     480.000000     0.000000    26.000000       0.000000     0.000000   \n",
       "75%     576.000000   168.000000    70.000000       0.000000     0.000000   \n",
       "max    1488.000000  1424.000000   742.000000    1012.000000   508.000000   \n",
       "\n",
       "       ScreenPorch     PoolArea       MoSold       YrSold      SalePrice  \n",
       "count  2919.000000  2919.000000  2919.000000  2919.000000    2919.000000  \n",
       "mean     16.062350     2.251799     6.213087  2007.792737  180052.602261  \n",
       "std      56.184365    35.663946     2.714762     1.314964   57381.570984  \n",
       "min       0.000000     0.000000     1.000000  2006.000000   34900.000000  \n",
       "25%       0.000000     0.000000     4.000000  2007.000000  154794.500000  \n",
       "50%       0.000000     0.000000     6.000000  2008.000000  176734.000000  \n",
       "75%       0.000000     0.000000     8.000000  2009.000000  191895.000000  \n",
       "max     576.000000   800.000000    12.000000  2010.000000  755000.000000  \n",
       "\n",
       "[8 rows x 35 columns]"
      ]
     },
     "execution_count": 9,
     "metadata": {},
     "output_type": "execute_result"
    }
   ],
   "source": [
    "#review the descriptive statistics of the numeric values\n",
    "\n",
    "sales_df_reduced.describe()"
   ]
  },
  {
   "cell_type": "code",
   "execution_count": 10,
   "id": "9131c831-d58b-4419-b92b-f2fa15fa0f64",
   "metadata": {},
   "outputs": [],
   "source": [
    "#create dataframes separating our numerical and categorical data for general review. \n",
    "\n",
    "raw_num_col = sales_df_reduced.select_dtypes(include=['number'])\n",
    "raw_cat_col = sales_df_reduced.select_dtypes(include=['object'])"
   ]
  },
  {
   "cell_type": "code",
   "execution_count": 11,
   "id": "402f2075-3db8-4808-b54e-a5ea70c2fe72",
   "metadata": {},
   "outputs": [
    {
     "data": {
      "image/png": "[encoded data removed]",
      "text/plain": [
       "<Figure size 1200x2000 with 36 Axes>"
      ]
     },
     "metadata": {},
     "output_type": "display_data"
    }
   ],
   "source": [
    "#Create plot showing target market distribution\n",
    "\n",
    "raw_num_col.hist(figsize=(12,20), bins=75, xlabelsize=6, ylabelsize=6)\n",
    "plt.show()"
   ]
  },
  {
   "cell_type": "code",
   "execution_count": 12,
   "id": "d4ecbbfd-51a8-4985-b9a0-72dae52ff31f",
   "metadata": {},
   "outputs": [
    {
     "data": {
      "image/png": "[encoded data removed]",
      "text/plain": [
       "<Figure size 640x480 with 1 Axes>"
      ]
     },
     "metadata": {},
     "output_type": "display_data"
    }
   ],
   "source": [
    "# Review target distribution \n",
    "\n",
    "sns.histplot(sales_df_reduced['SalePrice'])\n",
    "plt.show()"
   ]
  },
  {
   "cell_type": "code",
   "execution_count": 13,
   "id": "229b3f93-6638-44ee-ba40-25f9e59a155a",
   "metadata": {},
   "outputs": [
    {
     "data": {
      "text/plain": [
       "SalePrice        1.000000\n",
       "GrLivArea        0.588010\n",
       "OverallQual      0.550911\n",
       "TotRmsAbvGrd     0.469800\n",
       "GarageCars       0.469249\n",
       "GarageArea       0.464809\n",
       "1stFlrSF         0.462865\n",
       "TotalBsmtSF      0.453224\n",
       "FullBath         0.433710\n",
       "YearBuilt        0.362066\n",
       "Fireplaces       0.353567\n",
       "YearRemodAdd     0.350032\n",
       "GarageYrBlt      0.325297\n",
       "LotFrontage      0.318084\n",
       "LotArea          0.296497\n",
       "BsmtFinSF1       0.272202\n",
       "2ndFlrSF         0.272140\n",
       "WoodDeckSF       0.238381\n",
       "OpenPorchSF      0.236376\n",
       "BedroomAbvGr     0.229611\n",
       "HalfBath         0.228837\n",
       "BsmtUnfSF        0.175195\n",
       "BsmtFullBath     0.148210\n",
       "ScreenPorch      0.082308\n",
       "PoolArea         0.081039\n",
       "MoSold           0.067222\n",
       "3SsnPorch        0.029979\n",
       "BsmtFinSF2      -0.007437\n",
       "BsmtHalfBath    -0.012623\n",
       "LowQualFinSF    -0.015395\n",
       "YrSold          -0.039064\n",
       "OverallCond     -0.065785\n",
       "EnclosedPorch   -0.070698\n",
       "KitchenAbvGr    -0.071760\n",
       "MSSubClass      -0.087910\n",
       "Name: SalePrice, dtype: float64"
      ]
     },
     "execution_count": 13,
     "metadata": {},
     "output_type": "execute_result"
    }
   ],
   "source": [
    "#Review the correlations of each feature to the target\n",
    "\n",
    "corr_matrix = raw_num_col.corr()\n",
    "corr_matrix['SalePrice'].sort_values(ascending=False)"
   ]
  },
  {
   "cell_type": "code",
   "execution_count": 14,
   "id": "6bef4f1e-4261-44c5-a79d-eb03c6efa82e",
   "metadata": {},
   "outputs": [
    {
     "data": {
      "image/png": "[encoded data removed]",
      "text/plain": [
       "<Figure size 1200x1000 with 2 Axes>"
      ]
     },
     "metadata": {},
     "output_type": "display_data"
    }
   ],
   "source": [
    "#Create correlation matrix visual \n",
    "\n",
    "plt.figure(figsize=(12,10))\n",
    "sns.heatmap(corr_matrix, annot=False, cmap='coolwarm')\n",
    "plt.title('Correlations')\n",
    "plt.show()"
   ]
  },
  {
   "cell_type": "code",
   "execution_count": 15,
   "id": "47de01a3-8ca8-465b-bca6-d88dabc13790",
   "metadata": {},
   "outputs": [],
   "source": [
    "#Separate the columns by data types for pipelines (numeric, categorical (non-ordinal), ordinal)\n",
    "\n",
    "#numeric data \n",
    "\n",
    "num_col = list(x_train.select_dtypes(include=['number']))"
   ]
  },
  {
   "cell_type": "code",
   "execution_count": 16,
   "id": "2280e775-bd98-4029-b397-72a97ddb01ea",
   "metadata": {},
   "outputs": [],
   "source": [
    "#Ordinal data\n",
    "\n",
    "ord_col = list(x_train[['ExterQual', 'ExterCond','BsmtQual','BsmtCond', 'BsmtExposure', 'BsmtFinType1',\n",
    "               'BsmtFinType2', 'HeatingQC', 'KitchenQual', 'Functional',  'GarageQual', 'GarageCond']])\n"
   ]
  },
  {
   "cell_type": "code",
   "execution_count": 17,
   "id": "64e2fa4e-3f42-4eaa-8995-55a65e695838",
   "metadata": {},
   "outputs": [],
   "source": [
    "#categorical data without ordinal columns \n",
    "\n",
    "cat_col = list(x_train.select_dtypes(include='object').drop(columns=ord_col, axis=1))"
   ]
  },
  {
   "cell_type": "code",
   "execution_count": 18,
   "id": "32739b9d-a58d-4912-8117-1ac79c913efa",
   "metadata": {},
   "outputs": [],
   "source": [
    "# Create pipelines for each type of variable \n",
    "\n",
    "from sklearn.pipeline import make_pipeline\n",
    "from sklearn.impute import SimpleImputer\n",
    "from sklearn.preprocessing import StandardScaler\n",
    "\n",
    "#numeric pipeline, using median to impute, transforming it back since the output is an array, scaling the numeric data for ML\n",
    "\n",
    "numeric_pipeline = make_pipeline(\n",
    "    SimpleImputer(strategy='median').set_output(transform='pandas'),\n",
    "    StandardScaler()  \n",
    ")"
   ]
  },
  {
   "cell_type": "code",
   "execution_count": 19,
   "id": "4b8b94a8-7f99-489b-a2a6-1348447b5989",
   "metadata": {},
   "outputs": [],
   "source": [
    "#categorical pipeline, imputing values as most frequent values, onehot encoding \n",
    "\n",
    "from sklearn.preprocessing import OneHotEncoder\n",
    "\n",
    "categorical_pipeline = make_pipeline(\n",
    "    SimpleImputer(strategy='most_frequent'),\n",
    "    OneHotEncoder(drop='first', handle_unknown='ignore', sparse_output=False)\n",
    ")"
   ]
  },
  {
   "cell_type": "code",
   "execution_count": 20,
   "id": "9c9ce69d-a80b-40a9-91f4-01c3fca1c3fc",
   "metadata": {},
   "outputs": [],
   "source": [
    "#ordinal pipeline, imputing most frequent value, ordinal encoding \n",
    "\n",
    "from sklearn.preprocessing import OrdinalEncoder\n",
    "\n",
    "ordinal_pipeline = make_pipeline(\n",
    "    SimpleImputer(strategy='most_frequent'),\n",
    "    OrdinalEncoder(handle_unknown='use_encoded_value', unknown_value=np.nan)\n",
    ")"
   ]
  },
  {
   "cell_type": "code",
   "execution_count": 21,
   "id": "57cb41a6-8d0d-403b-a5dd-43e2c19fad02",
   "metadata": {},
   "outputs": [],
   "source": [
    "#create a column transformer that separates the columns by data type and sends them to the correct pipeline\n",
    "\n",
    "from sklearn.compose import ColumnTransformer \n",
    "\n",
    "column_transformer = ColumnTransformer([\n",
    "    ('num', numeric_pipeline, num_col),\n",
    "    ('cat', categorical_pipeline, cat_col),\n",
    "    ('ord', ordinal_pipeline, ord_col)\n",
    "])"
   ]
  },
  {
   "cell_type": "code",
   "execution_count": 22,
   "id": "344c28e7-cd73-4251-9207-b0c121dfeb1d",
   "metadata": {},
   "outputs": [],
   "source": [
    "# Pipelines and transformer is complete. We can now use the pipeline to fit_transform the training data\n",
    "\n",
    "x_train_transformed = column_transformer.fit_transform(x_train)"
   ]
  },
  {
   "cell_type": "code",
   "execution_count": 23,
   "id": "e453eed9-4150-45d8-b18f-68a7068c4191",
   "metadata": {},
   "outputs": [],
   "source": [
    "#Create two models: linear and lasso. I am adding lasso regression considering there are many variables\n",
    "#and to assist in overfitting. \n",
    "\n",
    "from sklearn.linear_model import LinearRegression, Lasso\n",
    "from sklearn.ensemble import RandomForestRegressor, GradientBoostingRegressor\n",
    "from xgboost import XGBRegressor\n",
    "\n",
    "#instantiate models \n",
    "\n",
    "linear_reg = LinearRegression()\n",
    "lasso_reg = Lasso()\n",
    "randomfr = RandomForestRegressor()\n",
    "gradientbr = GradientBoostingRegressor()\n",
    "xgb_reg = XGBRegressor()"
   ]
  },
  {
   "cell_type": "code",
   "execution_count": 24,
   "id": "ea4474bc-4d46-4909-a92a-bf98ca914ea0",
   "metadata": {
    "scrolled": true
   },
   "outputs": [
    {
     "name": "stderr",
     "output_type": "stream",
     "text": [
      "/opt/anaconda3/lib/python3.12/site-packages/sklearn/linear_model/_coordinate_descent.py:697: ConvergenceWarning: Objective did not converge. You might want to increase the number of iterations, check the scale of the features or consider increasing regularisation. Duality gap: 4.072e+10, tolerance: 6.586e+08\n",
      "  model = cd_fast.enet_coordinate_descent(\n",
      "/opt/anaconda3/lib/python3.12/site-packages/sklearn/linear_model/_coordinate_descent.py:697: ConvergenceWarning: Objective did not converge. You might want to increase the number of iterations, check the scale of the features or consider increasing regularisation. Duality gap: 1.870e+09, tolerance: 6.636e+08\n",
      "  model = cd_fast.enet_coordinate_descent(\n",
      "/opt/anaconda3/lib/python3.12/site-packages/sklearn/linear_model/_coordinate_descent.py:697: ConvergenceWarning: Objective did not converge. You might want to increase the number of iterations, check the scale of the features or consider increasing regularisation. Duality gap: 5.154e+09, tolerance: 6.567e+08\n",
      "  model = cd_fast.enet_coordinate_descent(\n",
      "/opt/anaconda3/lib/python3.12/site-packages/sklearn/linear_model/_coordinate_descent.py:697: ConvergenceWarning: Objective did not converge. You might want to increase the number of iterations, check the scale of the features or consider increasing regularisation. Duality gap: 2.188e+10, tolerance: 6.901e+08\n",
      "  model = cd_fast.enet_coordinate_descent(\n",
      "/opt/anaconda3/lib/python3.12/site-packages/sklearn/linear_model/_coordinate_descent.py:697: ConvergenceWarning: Objective did not converge. You might want to increase the number of iterations, check the scale of the features or consider increasing regularisation. Duality gap: 7.529e+09, tolerance: 6.539e+08\n",
      "  model = cd_fast.enet_coordinate_descent(\n",
      "/opt/anaconda3/lib/python3.12/site-packages/sklearn/linear_model/_coordinate_descent.py:697: ConvergenceWarning: Objective did not converge. You might want to increase the number of iterations, check the scale of the features or consider increasing regularisation. Duality gap: 3.215e+10, tolerance: 6.835e+08\n",
      "  model = cd_fast.enet_coordinate_descent(\n",
      "/opt/anaconda3/lib/python3.12/site-packages/sklearn/linear_model/_coordinate_descent.py:697: ConvergenceWarning: Objective did not converge. You might want to increase the number of iterations, check the scale of the features or consider increasing regularisation. Duality gap: 5.323e+10, tolerance: 6.761e+08\n",
      "  model = cd_fast.enet_coordinate_descent(\n"
     ]
    }
   ],
   "source": [
    "# cross validate each model to review and determine which model is performing the best. \n",
    "\n",
    "from sklearn.model_selection import cross_val_score\n",
    "\n",
    "cvscore_linr = -cross_val_score(linear_reg, x_train_transformed, y_train, scoring='neg_root_mean_squared_error', cv=10)\n",
    "cvscore_lasr = -cross_val_score(lasso_reg, x_train_transformed, y_train, scoring='neg_root_mean_squared_error', cv=10)\n",
    "cvscore_randfr = -cross_val_score(randomfr, x_train_transformed, y_train, scoring='neg_root_mean_squared_error', cv=10)\n",
    "cvscore_gradbr = -cross_val_score(gradientbr, x_train_transformed, y_train, scoring='neg_root_mean_squared_error', cv=10)\n",
    "cvscore_xgb = -cross_val_score(xgb_reg, x_train_transformed, y_train, scoring='neg_root_mean_squared_error', cv=10)"
   ]
  },
  {
   "cell_type": "code",
   "execution_count": 25,
   "id": "7ade3745-8d7d-4f1f-a2e0-86cfeb48f117",
   "metadata": {},
   "outputs": [
    {
     "name": "stdout",
     "output_type": "stream",
     "text": [
      "227088421923354.2 44745.173326221375 40687.92306984571 41041.58658438908 43938.5242769982\n"
     ]
    }
   ],
   "source": [
    "# find and review the mean rmse score of each model \n",
    "\n",
    "print(cvscore_linr.mean(), cvscore_lasr.mean(), cvscore_randfr.mean(), cvscore_gradbr.mean(), cvscore_xgb.mean())"
   ]
  },
  {
   "cell_type": "code",
   "execution_count": 26,
   "id": "9eb4704c-fac4-4dbb-a444-2950c63c0214",
   "metadata": {},
   "outputs": [
    {
     "name": "stdout",
     "output_type": "stream",
     "text": [
      "{'bootstrap': True,\n",
      " 'ccp_alpha': 0.0,\n",
      " 'criterion': 'squared_error',\n",
      " 'max_depth': None,\n",
      " 'max_features': 1.0,\n",
      " 'max_leaf_nodes': None,\n",
      " 'max_samples': None,\n",
      " 'min_impurity_decrease': 0.0,\n",
      " 'min_samples_leaf': 1,\n",
      " 'min_samples_split': 2,\n",
      " 'min_weight_fraction_leaf': 0.0,\n",
      " 'monotonic_cst': None,\n",
      " 'n_estimators': 100,\n",
      " 'n_jobs': None,\n",
      " 'oob_score': False,\n",
      " 'random_state': None,\n",
      " 'verbose': 0,\n",
      " 'warm_start': False}\n"
     ]
    }
   ],
   "source": [
    "#Hyperparameter tuning for the best performing model (Random Forest Regressor) using Grid Search\n",
    "\n",
    "from sklearn.model_selection import GridSearchCV\n",
    "\n",
    "#review parameters that are in the model \n",
    "\n",
    "from pprint import pprint\n",
    "# Look at parameters used by our current forest\n",
    "pprint(randomfr.get_params())"
   ]
  },
  {
   "cell_type": "code",
   "execution_count": 27,
   "id": "389d0774-e068-4466-8b43-4765c8307a56",
   "metadata": {},
   "outputs": [],
   "source": [
    "# Create and define a list of hyperparameters with the variations for grid search\n",
    "\n",
    "param_grid = {'bootstrap': [True, False],\n",
    "              'max_features':['auto', 'sqrt'],\n",
    "              'n_estimators': [100, 200, 300, 400, 500, 600, 700, 800, 900, 100],\n",
    "              'max_depth': [None, 10, 20, 30, 40, 50, 60, 70, 80, 90, 100],\n",
    "              'min_samples_leaf': [1, 2, 4],\n",
    "              'min_samples_split':[2, 4, 6],}"
   ]
  },
  {
   "cell_type": "code",
   "execution_count": 28,
   "id": "d094782a-76a4-4218-a6e1-8f7282f4df3b",
   "metadata": {},
   "outputs": [],
   "source": [
    "#Initialize the grid search with the random model and the defined parameters\n",
    "\n",
    "grid_search = GridSearchCV(randomfr, param_grid, scoring='neg_mean_squared_error', cv=5)\n"
   ]
  },
  {
   "cell_type": "code",
   "execution_count": 29,
   "id": "c6cb01b0-6378-4d7e-83bf-e2d6b13651d3",
   "metadata": {},
   "outputs": [
    {
     "name": "stderr",
     "output_type": "stream",
     "text": [
      "/opt/anaconda3/lib/python3.12/site-packages/sklearn/model_selection/_validation.py:540: FitFailedWarning: \n",
      "9900 fits failed out of a total of 19800.\n",
      "The score on these train-test partitions for these parameters will be set to nan.\n",
      "If these failures are not expected, you can try to debug them by setting error_score='raise'.\n",
      "\n",
      "Below are more details about the failures:\n",
      "--------------------------------------------------------------------------------\n",
      "9900 fits failed with the following error:\n",
      "Traceback (most recent call last):\n",
      "  File \"/opt/anaconda3/lib/python3.12/site-packages/sklearn/model_selection/_validation.py\", line 888, in _fit_and_score\n",
      "    estimator.fit(X_train, y_train, **fit_params)\n",
      "  File \"/opt/anaconda3/lib/python3.12/site-packages/sklearn/base.py\", line 1466, in wrapper\n",
      "    estimator._validate_params()\n",
      "  File \"/opt/anaconda3/lib/python3.12/site-packages/sklearn/base.py\", line 666, in _validate_params\n",
      "    validate_parameter_constraints(\n",
      "  File \"/opt/anaconda3/lib/python3.12/site-packages/sklearn/utils/_param_validation.py\", line 95, in validate_parameter_constraints\n",
      "    raise InvalidParameterError(\n",
      "sklearn.utils._param_validation.InvalidParameterError: The 'max_features' parameter of RandomForestRegressor must be an int in the range [1, inf), a float in the range (0.0, 1.0], a str among {'log2', 'sqrt'} or None. Got 'auto' instead.\n",
      "\n",
      "  warnings.warn(some_fits_failed_message, FitFailedWarning)\n",
      "/opt/anaconda3/lib/python3.12/site-packages/numpy/ma/core.py:2820: RuntimeWarning: invalid value encountered in cast\n",
      "  _data = np.array(data, dtype=dtype, copy=copy,\n",
      "/opt/anaconda3/lib/python3.12/site-packages/sklearn/model_selection/_search.py:1102: UserWarning: One or more of the test scores are non-finite: [            nan             nan             nan ... -1.65419589e+09\n",
      " -1.65437950e+09 -1.66658430e+09]\n",
      "  warnings.warn(\n"
     ]
    }
   ],
   "source": [
    "#fit and run the grid search \n",
    "\n",
    "randomfr_grid = grid_search.fit(x_train_transformed, y_train)"
   ]
  },
  {
   "cell_type": "code",
   "execution_count": 30,
   "id": "ee476b3e-ebfb-4e1e-9220-cca1c0040fde",
   "metadata": {},
   "outputs": [
    {
     "name": "stdout",
     "output_type": "stream",
     "text": [
      "{'bootstrap': False, 'max_depth': 50, 'max_features': 'sqrt', 'min_samples_leaf': 2, 'min_samples_split': 2, 'n_estimators': 100}\n"
     ]
    }
   ],
   "source": [
    "################ Continue while the above gridsearch is being completed\n",
    "\n",
    "#find the best paramters of the search and print to view the best parameters\n",
    "\n",
    "best_randomfr_grid = randomfr_grid.best_params_\n",
    "\n",
    "print(best_randomfr_grid)"
   ]
  },
  {
   "cell_type": "code",
   "execution_count": 31,
   "id": "f9b1c3d6-4840-46c4-812a-a2934be6d8fe",
   "metadata": {},
   "outputs": [],
   "source": [
    "#save and access the best model that was found in the grid search\n",
    "\n",
    "final_model = randomfr_grid.best_estimator_"
   ]
  },
  {
   "cell_type": "code",
   "execution_count": 32,
   "id": "5f07eb0f-740e-4e05-bbfc-7181b3baa1e8",
   "metadata": {},
   "outputs": [
    {
     "name": "stderr",
     "output_type": "stream",
     "text": [
      "/opt/anaconda3/lib/python3.12/site-packages/sklearn/preprocessing/_encoders.py:242: UserWarning: Found unknown categories in columns [4, 13, 14, 17] during transform. These unknown categories will be encoded as all zeros\n",
      "  warnings.warn(\n"
     ]
    }
   ],
   "source": [
    "#Measure model performance using the test set\n",
    "\n",
    "x_test_transformed = column_transformer.transform(x_test)"
   ]
  },
  {
   "cell_type": "code",
   "execution_count": 33,
   "id": "e6cd032b-86c9-47ff-b6f1-af9fd2d0e9a1",
   "metadata": {},
   "outputs": [],
   "source": [
    "#predict using the transformed test data\n",
    "\n",
    "y_prediction = final_model.predict(x_test_transformed)"
   ]
  },
  {
   "cell_type": "code",
   "execution_count": 34,
   "id": "2fe2f257-c53d-4621-8d17-b144c906e9c1",
   "metadata": {},
   "outputs": [
    {
     "name": "stderr",
     "output_type": "stream",
     "text": [
      "/opt/anaconda3/lib/python3.12/site-packages/sklearn/metrics/_regression.py:492: FutureWarning: 'squared' is deprecated in version 1.4 and will be removed in 1.6. To calculate the root mean squared error, use the function'root_mean_squared_error'.\n",
      "  warnings.warn(\n"
     ]
    }
   ],
   "source": [
    "#Find the RMSE for the model \n",
    "\n",
    "from sklearn.metrics import mean_squared_error\n",
    "\n",
    "rmse_randomfr = mean_squared_error(y_test, y_prediction, squared=False)"
   ]
  },
  {
   "cell_type": "code",
   "execution_count": 35,
   "id": "04aa660b-a2b6-4170-80b0-a3451a53ce3c",
   "metadata": {},
   "outputs": [],
   "source": [
    "#Find the r2 for the model \n",
    "\n",
    "from sklearn.metrics import r2_score\n",
    "\n",
    "r2_randomfr = r2_score(y_test, y_prediction)"
   ]
  },
  {
   "cell_type": "code",
   "execution_count": 36,
   "id": "c7b3d2a3-88f3-4116-9c8e-fbf2a700571e",
   "metadata": {},
   "outputs": [
    {
     "name": "stdout",
     "output_type": "stream",
     "text": [
      "42658.60292313252 0.5119213552481031\n"
     ]
    }
   ],
   "source": [
    "#View RMSE and r2 \n",
    "\n",
    "print(rmse_randomfr, r2_randomfr)"
   ]
  },
  {
   "cell_type": "code",
   "execution_count": 37,
   "id": "0abed81d-b7c3-4fe9-b56c-ecebf6633902",
   "metadata": {},
   "outputs": [
    {
     "data": {
      "text/html": [
       "\n",
       "<p style=\"margin:0px;\">🌲 Try <a href=\"https://ydf.readthedocs.io/en/latest/\" target=\"_blank\">YDF</a>, the successor of\n",
       "    <a href=\"https://www.tensorflow.org/decision_forests\" target=\"_blank\">TensorFlow\n",
       "        Decision Forests</a> using the same algorithms but with more features and faster\n",
       "    training!\n",
       "</p>\n",
       "<div style=\"display: flex; flex-wrap: wrap; margin:5px;max-width: 880px;\">\n",
       "    <div style=\"flex: 1; border-radius: 10px; background-color: F0F0F0; padding: 5px;\">\n",
       "        <p\n",
       "            style=\"font-weight: bold; margin:0px;text-align: center;border-bottom: 1px solid #C0C0C0;margin-bottom: 4px;\">\n",
       "            Old code</p>\n",
       "        <pre style=\"overflow-wrap: anywhere; overflow: auto; margin:0px;font-size: 9pt;\">\n",
       "import tensorflow_decision_forests as tfdf\n",
       "\n",
       "tf_ds = tfdf.keras.pd_dataframe_to_tf_dataset(ds, label=\"l\")\n",
       "model = tfdf.keras.RandomForestModel(label=\"l\")\n",
       "model.fit(tf_ds)\n",
       "</pre>\n",
       "    </div>\n",
       "    <div style=\"width: 5px;\"></div>\n",
       "    <div style=\"flex: 1; border-radius: 10px; background-color: F0F0F0; padding: 5px;\">\n",
       "        <p\n",
       "            style=\"font-weight: bold; margin:0px;text-align: center;border-bottom: 1px solid #C0C0C0;margin-bottom: 4px;\">\n",
       "            New code</p>\n",
       "        <pre style=\"overflow-wrap: anywhere; overflow: auto; margin:0px;font-size: 9pt;\">\n",
       "import ydf\n",
       "\n",
       "model = ydf.RandomForestLearner(label=\"l\").train(ds)\n",
       "</pre>\n",
       "    </div>\n",
       "</div>\n",
       "<p style=\"margin:0px;font-size: 9pt;\">(Learn more in the <a\n",
       "        href=\"https://ydf.readthedocs.io/en/latest/tutorial/migrating_to_ydf/\" target=\"_blank\">migration\n",
       "        guide</a>)</p>\n"
      ],
      "text/plain": [
       "<IPython.core.display.HTML object>"
      ]
     },
     "metadata": {},
     "output_type": "display_data"
    }
   ],
   "source": [
    "#The best model is the random forest model with the gradient boost not far off. I want to attempt a new model\n",
    "#I have learned to see if i can get a better performing model \n",
    "\n",
    "#import tensorflow decision forest model. This model can handle dataframes without as much preprocessing or imputations. \n",
    "\n",
    "import tensorflow as tf\n",
    "import tensorflow_decision_forests as tfdf"
   ]
  },
  {
   "cell_type": "code",
   "execution_count": 38,
   "id": "e5bd9f62-71d1-4d40-a14d-0beaf43e2cd1",
   "metadata": {},
   "outputs": [],
   "source": [
    "#Drop the ID columns and split the dataframes into train and test sets. \n",
    "\n",
    "train_df, test_df = train_test_split(sales_df, test_size=0.2, random_state=42)"
   ]
  },
  {
   "cell_type": "code",
   "execution_count": 39,
   "id": "8cb934d9-a989-4999-a23a-cf6c8e48c38b",
   "metadata": {},
   "outputs": [],
   "source": [
    "#tensorflow Decision Forest cant take panda dataframe as an input so we need to convert it to use in the model. \n",
    "\n",
    "train_ds = tfdf.keras.pd_dataframe_to_tf_dataset(train_df, label=\"SalePrice\", task = tfdf.keras.Task.REGRESSION)\n",
    "test_ds = tfdf.keras.pd_dataframe_to_tf_dataset(test_df, label=\"SalePrice\", task = tfdf.keras.Task.REGRESSION)"
   ]
  },
  {
   "cell_type": "code",
   "execution_count": 40,
   "id": "fa952520-a477-46b9-9d43-904dc7d0edc3",
   "metadata": {},
   "outputs": [
    {
     "name": "stdout",
     "output_type": "stream",
     "text": [
      "Use /var/folders/wd/yyjz2gbj6_37z_mcyx9sr4000000gn/T/tmp0rh542hp as temporary training directory\n"
     ]
    }
   ],
   "source": [
    "#instantiate the model\n",
    "\n",
    "tfdf_reg = tfdf.keras.RandomForestModel(task = tfdf.keras.Task.REGRESSION) "
   ]
  },
  {
   "cell_type": "code",
   "execution_count": 41,
   "id": "7451746e-930b-4f6f-a43d-46a931e17c72",
   "metadata": {},
   "outputs": [],
   "source": [
    "#TFDF model needs to be compiled so that I can review the metric, unable to use cross_val_score since it \n",
    "#is not an sklearn model\n",
    "\n",
    "tfdf_reg.compile(optimizer='adam', loss='mse', metrics=['mse'])"
   ]
  },
  {
   "cell_type": "code",
   "execution_count": 42,
   "id": "f88c1459-c70b-4109-a942-e08f716e5a55",
   "metadata": {
    "scrolled": true
   },
   "outputs": [
    {
     "name": "stdout",
     "output_type": "stream",
     "text": [
      "Reading training dataset...\n",
      "Training dataset read in 0:00:03.450793. Found 2335 examples.\n",
      "Training model...\n"
     ]
    },
    {
     "name": "stderr",
     "output_type": "stream",
     "text": [
      "WARNING: All log messages before absl::InitializeLog() is called are written to STDERR\n",
      "I0000 00:00:1751529966.479941  162668 kernel.cc:782] Start Yggdrasil model training\n",
      "I0000 00:00:1751529966.480028  162668 kernel.cc:783] Collect training examples\n",
      "I0000 00:00:1751529966.480032  162668 kernel.cc:795] Dataspec guide:\n",
      "column_guides {\n",
      "  column_name_pattern: \"^__LABEL$\"\n",
      "  type: NUMERICAL\n",
      "}\n",
      "default_column_guide {\n",
      "  categorial {\n",
      "    max_vocab_count: 2000\n",
      "  }\n",
      "  discretized_numerical {\n",
      "    maximum_num_bins: 255\n",
      "  }\n",
      "}\n",
      "ignore_columns_without_guides: false\n",
      "detect_numerical_as_discretized_numerical: false\n",
      "\n",
      "I0000 00:00:1751529966.480411  162668 kernel.cc:401] Number of batches: 3\n",
      "I0000 00:00:1751529966.480415  162668 kernel.cc:402] Number of examples: 2335\n",
      "I0000 00:00:1751529966.482520  162668 data_spec_inference.cc:354] 1 item(s) have been pruned (i.e. they are considered out of dictionary) for the column BsmtCond (3 item(s) left) because min_value_count=5 and max_number_of_unique_values=2000\n",
      "I0000 00:00:1751529966.482534  162668 data_spec_inference.cc:354] 5 item(s) have been pruned (i.e. they are considered out of dictionary) for the column Condition2 (3 item(s) left) because min_value_count=5 and max_number_of_unique_values=2000\n",
      "I0000 00:00:1751529966.482537  162668 data_spec_inference.cc:354] 1 item(s) have been pruned (i.e. they are considered out of dictionary) for the column Electrical (4 item(s) left) because min_value_count=5 and max_number_of_unique_values=2000\n",
      "I0000 00:00:1751529966.482540  162668 data_spec_inference.cc:354] 1 item(s) have been pruned (i.e. they are considered out of dictionary) for the column ExterCond (4 item(s) left) because min_value_count=5 and max_number_of_unique_values=2000\n",
      "I0000 00:00:1751529966.482544  162668 data_spec_inference.cc:354] 3 item(s) have been pruned (i.e. they are considered out of dictionary) for the column Exterior1st (10 item(s) left) because min_value_count=5 and max_number_of_unique_values=2000\n",
      "I0000 00:00:1751529966.482549  162668 data_spec_inference.cc:354] 4 item(s) have been pruned (i.e. they are considered out of dictionary) for the column Exterior2nd (12 item(s) left) because min_value_count=5 and max_number_of_unique_values=2000\n",
      "I0000 00:00:1751529966.482554  162668 data_spec_inference.cc:354] 1 item(s) have been pruned (i.e. they are considered out of dictionary) for the column Foundation (5 item(s) left) because min_value_count=5 and max_number_of_unique_values=2000\n",
      "I0000 00:00:1751529966.482557  162668 data_spec_inference.cc:354] 1 item(s) have been pruned (i.e. they are considered out of dictionary) for the column Functional (6 item(s) left) because min_value_count=5 and max_number_of_unique_values=2000\n",
      "I0000 00:00:1751529966.482560  162668 data_spec_inference.cc:354] 1 item(s) have been pruned (i.e. they are considered out of dictionary) for the column GarageCond (4 item(s) left) because min_value_count=5 and max_number_of_unique_values=2000\n",
      "I0000 00:00:1751529966.482563  162668 data_spec_inference.cc:354] 2 item(s) have been pruned (i.e. they are considered out of dictionary) for the column GarageQual (3 item(s) left) because min_value_count=5 and max_number_of_unique_values=2000\n",
      "I0000 00:00:1751529966.482567  162668 data_spec_inference.cc:354] 2 item(s) have been pruned (i.e. they are considered out of dictionary) for the column Heating (3 item(s) left) because min_value_count=5 and max_number_of_unique_values=2000\n",
      "I0000 00:00:1751529966.482569  162668 data_spec_inference.cc:354] 1 item(s) have been pruned (i.e. they are considered out of dictionary) for the column HeatingQC (4 item(s) left) because min_value_count=5 and max_number_of_unique_values=2000\n",
      "I0000 00:00:1751529966.482580  162668 data_spec_inference.cc:354] 2 item(s) have been pruned (i.e. they are considered out of dictionary) for the column MiscFeature (2 item(s) left) because min_value_count=5 and max_number_of_unique_values=2000\n",
      "I0000 00:00:1751529966.482588  162668 data_spec_inference.cc:354] 3 item(s) have been pruned (i.e. they are considered out of dictionary) for the column PoolQC (0 item(s) left) because min_value_count=5 and max_number_of_unique_values=2000\n",
      "I0000 00:00:1751529966.482590  162668 data_spec_inference.cc:354] 3 item(s) have been pruned (i.e. they are considered out of dictionary) for the column RoofMatl (4 item(s) left) because min_value_count=5 and max_number_of_unique_values=2000\n",
      "I0000 00:00:1751529966.482594  162668 data_spec_inference.cc:354] 1 item(s) have been pruned (i.e. they are considered out of dictionary) for the column RoofStyle (5 item(s) left) because min_value_count=5 and max_number_of_unique_values=2000\n",
      "I0000 00:00:1751529966.482598  162668 data_spec_inference.cc:354] 1 item(s) have been pruned (i.e. they are considered out of dictionary) for the column SaleType (8 item(s) left) because min_value_count=5 and max_number_of_unique_values=2000\n",
      "I0000 00:00:1751529966.484159  162668 kernel.cc:802] Training dataset:\n",
      "Number of records: 2335\n",
      "Number of columns: 80\n",
      "\n",
      "Number of columns by type:\n",
      "\tCATEGORICAL: 43 (53.75%)\n",
      "\tNUMERICAL: 37 (46.25%)\n",
      "\n",
      "Columns:\n",
      "\n",
      "CATEGORICAL: 43 (53.75%)\n",
      "\t3: \"Alley\" CATEGORICAL num-nas:2187 (93.6617%) has-dict vocab-size:3 zero-ood-items most-frequent:\"Grvl\" 89 (60.1351%)\n",
      "\t5: \"BldgType\" CATEGORICAL has-dict vocab-size:6 zero-ood-items most-frequent:\"1Fam\" 1939 (83.0407%)\n",
      "\t6: \"BsmtCond\" CATEGORICAL num-nas:62 (2.65525%) has-dict vocab-size:4 num-oods:4 (0.175979%) most-frequent:\"TA\" 2104 (92.5649%)\n",
      "\t7: \"BsmtExposure\" CATEGORICAL num-nas:62 (2.65525%) has-dict vocab-size:5 zero-ood-items most-frequent:\"No\" 1533 (67.4439%)\n",
      "\t10: \"BsmtFinType1\" CATEGORICAL num-nas:60 (2.56959%) has-dict vocab-size:7 zero-ood-items most-frequent:\"Unf\" 677 (29.7582%)\n",
      "\t11: \"BsmtFinType2\" CATEGORICAL num-nas:60 (2.56959%) has-dict vocab-size:7 zero-ood-items most-frequent:\"Unf\" 1991 (87.5165%)\n",
      "\t14: \"BsmtQual\" CATEGORICAL num-nas:62 (2.65525%) has-dict vocab-size:5 zero-ood-items most-frequent:\"TA\" 1033 (45.4465%)\n",
      "\t16: \"CentralAir\" CATEGORICAL has-dict vocab-size:3 zero-ood-items most-frequent:\"Y\" 2178 (93.2762%)\n",
      "\t17: \"Condition1\" CATEGORICAL has-dict vocab-size:10 zero-ood-items most-frequent:\"Norm\" 2012 (86.167%)\n",
      "\t18: \"Condition2\" CATEGORICAL has-dict vocab-size:4 num-oods:11 (0.471092%) most-frequent:\"Norm\" 2307 (98.8009%)\n",
      "\t19: \"Electrical\" CATEGORICAL num-nas:1 (0.0428266%) has-dict vocab-size:5 num-oods:1 (0.0428449%) most-frequent:\"SBrkr\" 2152 (92.2022%)\n",
      "\t21: \"ExterCond\" CATEGORICAL has-dict vocab-size:5 num-oods:3 (0.12848%) most-frequent:\"TA\" 2040 (87.3662%)\n",
      "\t22: \"ExterQual\" CATEGORICAL has-dict vocab-size:5 zero-ood-items most-frequent:\"TA\" 1444 (61.8415%)\n",
      "\t23: \"Exterior1st\" CATEGORICAL num-nas:1 (0.0428266%) has-dict vocab-size:11 num-oods:7 (0.299914%) most-frequent:\"VinylSd\" 816 (34.9614%)\n",
      "\t24: \"Exterior2nd\" CATEGORICAL num-nas:1 (0.0428266%) has-dict vocab-size:13 num-oods:9 (0.385604%) most-frequent:\"VinylSd\" 808 (34.6187%)\n",
      "\t25: \"Fence\" CATEGORICAL num-nas:1876 (80.3426%) has-dict vocab-size:5 zero-ood-items most-frequent:\"MnPrv\" 265 (57.7342%)\n",
      "\t26: \"FireplaceQu\" CATEGORICAL num-nas:1121 (48.0086%) has-dict vocab-size:6 zero-ood-items most-frequent:\"Gd\" 596 (49.0939%)\n",
      "\t28: \"Foundation\" CATEGORICAL has-dict vocab-size:6 num-oods:3 (0.12848%) most-frequent:\"PConc\" 1054 (45.1392%)\n",
      "\t30: \"Functional\" CATEGORICAL num-nas:1 (0.0428266%) has-dict vocab-size:7 num-oods:2 (0.0856898%) most-frequent:\"Typ\" 2176 (93.2305%)\n",
      "\t33: \"GarageCond\" CATEGORICAL num-nas:128 (5.4818%) has-dict vocab-size:5 num-oods:3 (0.135931%) most-frequent:\"TA\" 2129 (96.4658%)\n",
      "\t34: \"GarageFinish\" CATEGORICAL num-nas:128 (5.4818%) has-dict vocab-size:4 zero-ood-items most-frequent:\"Unf\" 981 (44.4495%)\n",
      "\t35: \"GarageQual\" CATEGORICAL num-nas:128 (5.4818%) has-dict vocab-size:4 num-oods:7 (0.317173%) most-frequent:\"TA\" 2092 (94.7893%)\n",
      "\t36: \"GarageType\" CATEGORICAL num-nas:126 (5.39615%) has-dict vocab-size:7 zero-ood-items most-frequent:\"Attchd\" 1393 (63.0602%)\n",
      "\t40: \"Heating\" CATEGORICAL has-dict vocab-size:4 num-oods:4 (0.171306%) most-frequent:\"GasA\" 2300 (98.5011%)\n",
      "\t41: \"HeatingQC\" CATEGORICAL has-dict vocab-size:5 num-oods:2 (0.0856531%) most-frequent:\"Ex\" 1192 (51.0493%)\n",
      "\t42: \"HouseStyle\" CATEGORICAL has-dict vocab-size:9 zero-ood-items most-frequent:\"1Story\" 1172 (50.1927%)\n",
      "\t44: \"KitchenQual\" CATEGORICAL num-nas:1 (0.0428266%) has-dict vocab-size:5 zero-ood-items most-frequent:\"TA\" 1201 (51.4567%)\n",
      "\t45: \"LandContour\" CATEGORICAL has-dict vocab-size:5 zero-ood-items most-frequent:\"Lvl\" 2108 (90.2784%)\n",
      "\t46: \"LandSlope\" CATEGORICAL has-dict vocab-size:4 zero-ood-items most-frequent:\"Gtl\" 2224 (95.2463%)\n",
      "\t48: \"LotConfig\" CATEGORICAL has-dict vocab-size:6 zero-ood-items most-frequent:\"Inside\" 1694 (72.5482%)\n",
      "\t50: \"LotShape\" CATEGORICAL has-dict vocab-size:5 zero-ood-items most-frequent:\"Reg\" 1488 (63.7259%)\n",
      "\t53: \"MSZoning\" CATEGORICAL num-nas:1 (0.0428266%) has-dict vocab-size:6 zero-ood-items most-frequent:\"RL\" 1818 (77.892%)\n",
      "\t55: \"MasVnrType\" CATEGORICAL num-nas:1416 (60.6424%) has-dict vocab-size:4 zero-ood-items most-frequent:\"BrkFace\" 700 (76.1697%)\n",
      "\t56: \"MiscFeature\" CATEGORICAL num-nas:2247 (96.2313%) has-dict vocab-size:3 num-oods:3 (3.40909%) most-frequent:\"Shed\" 80 (90.9091%)\n",
      "\t59: \"Neighborhood\" CATEGORICAL has-dict vocab-size:26 zero-ood-items most-frequent:\"NAmes\" 357 (15.2891%)\n",
      "\t63: \"PavedDrive\" CATEGORICAL has-dict vocab-size:4 zero-ood-items most-frequent:\"Y\" 2114 (90.5353%)\n",
      "\t65: \"PoolQC\" CATEGORICAL num-nas:2327 (99.6574%) has-dict vocab-size:1 num-oods:8 (100%)\n",
      "\t66: \"RoofMatl\" CATEGORICAL has-dict vocab-size:5 num-oods:3 (0.12848%) most-frequent:\"CompShg\" 2304 (98.6724%)\n",
      "\t67: \"RoofStyle\" CATEGORICAL has-dict vocab-size:6 num-oods:4 (0.171306%) most-frequent:\"Gable\" 1845 (79.015%)\n",
      "\t68: \"SaleCondition\" CATEGORICAL has-dict vocab-size:7 zero-ood-items most-frequent:\"Normal\" 1920 (82.227%)\n",
      "\t69: \"SaleType\" CATEGORICAL num-nas:1 (0.0428266%) has-dict vocab-size:9 num-oods:4 (0.17138%) most-frequent:\"WD\" 2012 (86.2039%)\n",
      "\t71: \"Street\" CATEGORICAL has-dict vocab-size:3 zero-ood-items most-frequent:\"Pave\" 2326 (99.6146%)\n",
      "\t74: \"Utilities\" CATEGORICAL num-nas:1 (0.0428266%) has-dict vocab-size:2 zero-ood-items most-frequent:\"AllPub\" 2334 (100%)\n",
      "\n",
      "NUMERICAL: 37 (46.25%)\n",
      "\t0: \"1stFlrSF\" NUMERICAL mean:1159.37 min:438 max:5095 sd:395.664\n",
      "\t1: \"2ndFlrSF\" NUMERICAL mean:331.731 min:0 max:2065 sd:423.669\n",
      "\t2: \"3SsnPorch\" NUMERICAL mean:2.75846 min:0 max:508 sd:26.3406\n",
      "\t4: \"BedroomAbvGr\" NUMERICAL mean:2.85439 min:0 max:8 sd:0.813298\n",
      "\t8: \"BsmtFinSF1\" NUMERICAL num-nas:1 (0.0428266%) mean:441.404 min:0 max:5644 sd:457.004\n",
      "\t9: \"BsmtFinSF2\" NUMERICAL num-nas:1 (0.0428266%) mean:50.9953 min:0 max:1526 sd:169.561\n",
      "\t12: \"BsmtFullBath\" NUMERICAL num-nas:2 (0.0856531%) mean:0.42949 min:0 max:3 sd:0.521978\n",
      "\t13: \"BsmtHalfBath\" NUMERICAL num-nas:2 (0.0856531%) mean:0.0634376 min:0 max:2 sd:0.250684\n",
      "\t15: \"BsmtUnfSF\" NUMERICAL num-nas:1 (0.0428266%) mean:561.149 min:0 max:2336 sd:443.593\n",
      "\t20: \"EnclosedPorch\" NUMERICAL mean:22.2304 min:0 max:1012 sd:63.4612\n",
      "\t27: \"Fireplaces\" NUMERICAL mean:0.60257 min:0 max:4 sd:0.642927\n",
      "\t29: \"FullBath\" NUMERICAL mean:1.56445 min:0 max:4 sd:0.549109\n",
      "\t31: \"GarageArea\" NUMERICAL num-nas:1 (0.0428266%) mean:471.911 min:0 max:1488 sd:212.391\n",
      "\t32: \"GarageCars\" NUMERICAL num-nas:1 (0.0428266%) mean:1.76864 min:0 max:5 sd:0.756311\n",
      "\t37: \"GarageYrBlt\" NUMERICAL num-nas:128 (5.4818%) mean:1978.56 min:1895 max:2207 sd:25.3654\n",
      "\t38: \"GrLivArea\" NUMERICAL mean:1495.61 min:438 max:5642 sd:501.677\n",
      "\t39: \"HalfBath\" NUMERICAL mean:0.373876 min:0 max:2 sd:0.501222\n",
      "\t43: \"KitchenAbvGr\" NUMERICAL mean:1.0424 min:0 max:3 sd:0.209826\n",
      "\t47: \"LotArea\" NUMERICAL mean:10096.4 min:1300 max:164660 sd:7237.38\n",
      "\t49: \"LotFrontage\" NUMERICAL num-nas:377 (16.1456%) mean:69.1665 min:21 max:313 sd:23.3661\n",
      "\t51: \"LowQualFinSF\" NUMERICAL mean:4.50578 min:0 max:1064 sd:46.927\n",
      "\t52: \"MSSubClass\" NUMERICAL mean:57.349 min:20 max:190 sd:42.5209\n",
      "\t54: \"MasVnrArea\" NUMERICAL num-nas:21 (0.899358%) mean:100.939 min:0 max:1600 sd:177.767\n",
      "\t57: \"MiscVal\" NUMERICAL mean:56.1268 min:0 max:17000 sd:614.363\n",
      "\t58: \"MoSold\" NUMERICAL mean:6.23983 min:1 max:12 sd:2.70519\n",
      "\t60: \"OpenPorchSF\" NUMERICAL mean:46.7101 min:0 max:742 sd:65.9458\n",
      "\t61: \"OverallCond\" NUMERICAL mean:5.56017 min:1 max:9 sd:1.10543\n",
      "\t62: \"OverallQual\" NUMERICAL mean:6.09807 min:1 max:10 sd:1.40549\n",
      "\t64: \"PoolArea\" NUMERICAL mean:2.40128 min:0 max:800 sd:36.5314\n",
      "\t70: \"ScreenPorch\" NUMERICAL mean:15.8188 min:0 max:576 sd:55.7799\n",
      "\t72: \"TotRmsAbvGrd\" NUMERICAL mean:6.44925 min:3 max:15 sd:1.56127\n",
      "\t73: \"TotalBsmtSF\" NUMERICAL num-nas:1 (0.0428266%) mean:1053.55 min:0 max:6110 sd:443.209\n",
      "\t75: \"WoodDeckSF\" NUMERICAL mean:93.5032 min:0 max:1424 sd:125.957\n",
      "\t76: \"YearBuilt\" NUMERICAL mean:1971.62 min:1875 max:2010 sd:30.0743\n",
      "\t77: \"YearRemodAdd\" NUMERICAL mean:1984.2 min:1950 max:2010 sd:20.8768\n",
      "\t78: \"YrSold\" NUMERICAL mean:2007.78 min:2006 max:2010 sd:1.31673\n",
      "\t79: \"__LABEL\" NUMERICAL mean:179373 min:35311 max:745000 sd:56390.9\n",
      "\n",
      "Terminology:\n",
      "\tnas: Number of non-available (i.e. missing) values.\n",
      "\tood: Out of dictionary.\n",
      "\tmanually-defined: Attribute whose type is manually defined by the user, i.e., the type was not automatically inferred.\n",
      "\ttokenized: The attribute value is obtained through tokenization.\n",
      "\thas-dict: The attribute is attached to a string dictionary e.g. a categorical attribute stored as a string.\n",
      "\tvocab-size: Number of unique values.\n",
      "\n",
      "I0000 00:00:1751529966.484236  162668 kernel.cc:818] Configure learner\n",
      "I0000 00:00:1751529966.484362  162668 kernel.cc:831] Training config:\n",
      "learner: \"RANDOM_FOREST\"\n",
      "features: \"^1stFlrSF$\"\n",
      "features: \"^2ndFlrSF$\"\n",
      "features: \"^3SsnPorch$\"\n",
      "features: \"^Alley$\"\n",
      "features: \"^BedroomAbvGr$\"\n",
      "features: \"^BldgType$\"\n",
      "features: \"^BsmtCond$\"\n",
      "features: \"^BsmtExposure$\"\n",
      "features: \"^BsmtFinSF1$\"\n",
      "features: \"^BsmtFinSF2$\"\n",
      "features: \"^BsmtFinType1$\"\n",
      "features: \"^BsmtFinType2$\"\n",
      "features: \"^BsmtFullBath$\"\n",
      "features: \"^BsmtHalfBath$\"\n",
      "features: \"^BsmtQual$\"\n",
      "features: \"^BsmtUnfSF$\"\n",
      "features: \"^CentralAir$\"\n",
      "features: \"^Condition1$\"\n",
      "features: \"^Condition2$\"\n",
      "features: \"^Electrical$\"\n",
      "features: \"^EnclosedPorch$\"\n",
      "features: \"^ExterCond$\"\n",
      "features: \"^ExterQual$\"\n",
      "features: \"^Exterior1st$\"\n",
      "features: \"^Exterior2nd$\"\n",
      "features: \"^Fence$\"\n",
      "features: \"^FireplaceQu$\"\n",
      "features: \"^Fireplaces$\"\n",
      "features: \"^Foundation$\"\n",
      "features: \"^FullBath$\"\n",
      "features: \"^Functional$\"\n",
      "features: \"^GarageArea$\"\n",
      "features: \"^GarageCars$\"\n",
      "features: \"^GarageCond$\"\n",
      "features: \"^GarageFinish$\"\n",
      "features: \"^GarageQual$\"\n",
      "features: \"^GarageType$\"\n",
      "features: \"^GarageYrBlt$\"\n",
      "features: \"^GrLivArea$\"\n",
      "features: \"^HalfBath$\"\n",
      "features: \"^Heating$\"\n",
      "features: \"^HeatingQC$\"\n",
      "features: \"^HouseStyle$\"\n",
      "features: \"^KitchenAbvGr$\"\n",
      "features: \"^KitchenQual$\"\n",
      "features: \"^LandContour$\"\n",
      "features: \"^LandSlope$\"\n",
      "features: \"^LotArea$\"\n",
      "features: \"^LotConfig$\"\n",
      "features: \"^LotFrontage$\"\n",
      "features: \"^LotShape$\"\n",
      "features: \"^LowQualFinSF$\"\n",
      "features: \"^MSSubClass$\"\n",
      "features: \"^MSZoning$\"\n",
      "features: \"^MasVnrArea$\"\n",
      "features: \"^MasVnrType$\"\n",
      "features: \"^MiscFeature$\"\n",
      "features: \"^MiscVal$\"\n",
      "features: \"^MoSold$\"\n",
      "features: \"^Neighborhood$\"\n",
      "features: \"^OpenPorchSF$\"\n",
      "features: \"^OverallCond$\"\n",
      "features: \"^OverallQual$\"\n",
      "features: \"^PavedDrive$\"\n",
      "features: \"^PoolArea$\"\n",
      "features: \"^PoolQC$\"\n",
      "features: \"^RoofMatl$\"\n",
      "features: \"^RoofStyle$\"\n",
      "features: \"^SaleCondition$\"\n",
      "features: \"^SaleType$\"\n",
      "features: \"^ScreenPorch$\"\n",
      "features: \"^Street$\"\n",
      "features: \"^TotRmsAbvGrd$\"\n",
      "features: \"^TotalBsmtSF$\"\n",
      "features: \"^Utilities$\"\n",
      "features: \"^WoodDeckSF$\"\n",
      "features: \"^YearBuilt$\"\n",
      "features: \"^YearRemodAdd$\"\n",
      "features: \"^YrSold$\"\n",
      "label: \"^__LABEL$\"\n",
      "task: REGRESSION\n",
      "random_seed: 123456\n",
      "metadata {\n",
      "  framework: \"TF Keras\"\n",
      "}\n",
      "pure_serving_model: false\n",
      "[yggdrasil_decision_forests.model.random_forest.proto.random_forest_config] {\n",
      "  num_trees: 300\n",
      "  decision_tree {\n",
      "    max_depth: 16\n",
      "    min_examples: 5\n",
      "    in_split_min_examples_check: true\n",
      "    keep_non_leaf_label_distribution: true\n",
      "    num_candidate_attributes: 0\n",
      "    missing_value_policy: GLOBAL_IMPUTATION\n",
      "    allow_na_conditions: false\n",
      "    categorical_set_greedy_forward {\n",
      "      sampling: 0.1\n",
      "      max_num_items: -1\n",
      "      min_item_frequency: 1\n",
      "    }\n",
      "    growing_strategy_local {\n",
      "    }\n",
      "    categorical {\n",
      "      cart {\n",
      "      }\n",
      "    }\n",
      "    axis_aligned_split {\n",
      "    }\n",
      "    internal {\n",
      "      sorting_strategy: PRESORTED\n",
      "    }\n",
      "    uplift {\n",
      "      min_examples_in_treatment: 5\n",
      "      split_score: KULLBACK_LEIBLER\n",
      "    }\n",
      "    numerical_vector_sequence {\n",
      "      max_num_test_examples: 1000\n",
      "      num_random_selected_anchors: 100\n",
      "    }\n",
      "  }\n",
      "  winner_take_all_inference: true\n",
      "  compute_oob_performances: true\n",
      "  compute_oob_variable_importances: false\n",
      "  num_oob_variable_importances_permutations: 1\n",
      "  bootstrap_training_dataset: true\n",
      "  bootstrap_size_ratio: 1\n",
      "  adapt_bootstrap_size_ratio_for_maximum_training_duration: false\n",
      "  sampling_with_replacement: true\n",
      "}\n",
      "\n",
      "I0000 00:00:1751529966.484516  162668 kernel.cc:834] Deployment config:\n",
      "cache_path: \"/var/folders/wd/yyjz2gbj6_37z_mcyx9sr4000000gn/T/tmp0rh542hp/working_cache\"\n",
      "num_threads: 8\n",
      "try_resume_training: true\n",
      "\n",
      "I0000 00:00:1751529966.484650  333907 kernel.cc:895] Train model\n",
      "I0000 00:00:1751529966.485000  333907 random_forest.cc:438] Training random forest on 2335 example(s) and 79 feature(s).\n",
      "I0000 00:00:1751529966.485902  333907 gpu.cc:93] Cannot initialize GPU: Not compiled with GPU support\n",
      "I0000 00:00:1751529966.503228  333921 random_forest.cc:865] Train tree 1/300 rmse:57761.3 [index:7 total:0.02s tree:0.02s]\n",
      "I0000 00:00:1751529966.520940  333923 random_forest.cc:865] Train tree 11/300 rmse:45214.6 [index:9 total:0.03s tree:0.02s]\n",
      "I0000 00:00:1751529966.543017  333917 random_forest.cc:865] Train tree 21/300 rmse:42598.3 [index:21 total:0.06s tree:0.02s]\n",
      "I0000 00:00:1751529966.568163  333917 random_forest.cc:865] Train tree 31/300 rmse:42334.9 [index:28 total:0.08s tree:0.03s]\n",
      "I0000 00:00:1751529966.590187  333921 random_forest.cc:865] Train tree 41/300 rmse:42024.9 [index:40 total:0.10s tree:0.02s]\n",
      "I0000 00:00:1751529966.612241  333918 random_forest.cc:865] Train tree 51/300 rmse:41760.1 [index:47 total:0.13s tree:0.02s]\n",
      "I0000 00:00:1751529966.637217  333916 random_forest.cc:865] Train tree 61/300 rmse:41462.5 [index:61 total:0.15s tree:0.01s]\n",
      "I0000 00:00:1751529966.664366  333918 random_forest.cc:865] Train tree 71/300 rmse:41337.4 [index:71 total:0.18s tree:0.02s]\n",
      "I0000 00:00:1751529966.687534  333922 random_forest.cc:865] Train tree 81/300 rmse:41346.2 [index:79 total:0.20s tree:0.02s]\n",
      "I0000 00:00:1751529966.707682  333917 random_forest.cc:865] Train tree 91/300 rmse:41171.4 [index:87 total:0.22s tree:0.02s]\n",
      "I0000 00:00:1751529966.731229  333920 random_forest.cc:865] Train tree 101/300 rmse:41197.9 [index:100 total:0.25s tree:0.02s]\n",
      "I0000 00:00:1751529966.756479  333923 random_forest.cc:865] Train tree 111/300 rmse:41254.6 [index:111 total:0.27s tree:0.01s]\n",
      "I0000 00:00:1751529966.785693  333920 random_forest.cc:865] Train tree 121/300 rmse:41278.3 [index:121 total:0.30s tree:0.02s]\n",
      "I0000 00:00:1751529966.806291  333916 random_forest.cc:865] Train tree 131/300 rmse:41225.1 [index:129 total:0.32s tree:0.02s]\n",
      "I0000 00:00:1751529966.829788  333919 random_forest.cc:865] Train tree 141/300 rmse:41183.5 [index:140 total:0.34s tree:0.02s]\n",
      "I0000 00:00:1751529966.853278  333918 random_forest.cc:865] Train tree 151/300 rmse:41132.9 [index:150 total:0.37s tree:0.02s]\n",
      "I0000 00:00:1751529966.879199  333921 random_forest.cc:865] Train tree 161/300 rmse:41044.2 [index:160 total:0.39s tree:0.02s]\n",
      "I0000 00:00:1751529966.900375  333917 random_forest.cc:865] Train tree 171/300 rmse:40992.2 [index:171 total:0.41s tree:0.02s]\n",
      "I0000 00:00:1751529966.926911  333923 random_forest.cc:865] Train tree 181/300 rmse:40985.9 [index:177 total:0.44s tree:0.03s]\n",
      "I0000 00:00:1751529966.951407  333921 random_forest.cc:865] Train tree 191/300 rmse:40942.5 [index:193 total:0.47s tree:0.02s]\n",
      "I0000 00:00:1751529966.970997  333923 random_forest.cc:865] Train tree 201/300 rmse:40927.8 [index:200 total:0.49s tree:0.02s]\n",
      "I0000 00:00:1751529966.993564  333923 random_forest.cc:865] Train tree 211/300 rmse:40927.6 [index:208 total:0.51s tree:0.02s]\n",
      "I0000 00:00:1751529967.026639  333918 random_forest.cc:865] Train tree 221/300 rmse:40998.7 [index:220 total:0.54s tree:0.02s]\n",
      "I0000 00:00:1751529967.047148  333923 random_forest.cc:865] Train tree 231/300 rmse:40995.5 [index:231 total:0.56s tree:0.02s]\n",
      "I0000 00:00:1751529967.070444  333920 random_forest.cc:865] Train tree 241/300 rmse:40995.9 [index:240 total:0.58s tree:0.02s]\n",
      "I0000 00:00:1751529967.092287  333920 random_forest.cc:865] Train tree 251/300 rmse:41038.2 [index:248 total:0.61s tree:0.02s]\n",
      "I0000 00:00:1751529967.117844  333917 random_forest.cc:865] Train tree 261/300 rmse:41004.4 [index:261 total:0.63s tree:0.02s]\n",
      "I0000 00:00:1751529967.144453  333920 random_forest.cc:865] Train tree 271/300 rmse:41039.3 [index:272 total:0.66s tree:0.02s]\n",
      "I0000 00:00:1751529967.167597  333918 random_forest.cc:865] Train tree 281/300 rmse:41028.9 [index:280 total:0.68s tree:0.02s]\n",
      "I0000 00:00:1751529967.192362  333922 random_forest.cc:865] Train tree 291/300 rmse:41058.2 [index:290 total:0.71s tree:0.02s]\n",
      "I0000 00:00:1751529967.207988  333923 random_forest.cc:865] Train tree 300/300 rmse:41091.8 [index:299 total:0.72s tree:0.02s]\n",
      "I0000 00:00:1751529967.208028  333907 random_forest.cc:949] Final OOB metrics: rmse:41091.8\n",
      "I0000 00:00:1751529967.374172  333907 kernel.cc:926] Export model in log directory: /var/folders/wd/yyjz2gbj6_37z_mcyx9sr4000000gn/T/tmp0rh542hp with prefix 8fe65133fdb14938\n",
      "I0000 00:00:1751529967.441793  333907 kernel.cc:944] Save model in resources\n",
      "I0000 00:00:1751529967.442906  162668 abstract_model.cc:921] Model self evaluation:\n",
      "Number of predictions (without weights): 2335\n",
      "Number of predictions (with weights): 2335\n",
      "Task: REGRESSION\n",
      "Label: __LABEL\n",
      "\n",
      "RMSE: 41091.8 CI95[X2][39946.5 42305.3]\n",
      "Default RMSE: : 56390.9\n",
      "\n",
      "2025-07-03 01:06:07.482995: I tensorflow_decision_forests/tensorflow/ops/inference/kernel.cc:1206] Loading model from path /var/folders/wd/yyjz2gbj6_37z_mcyx9sr4000000gn/T/tmp0rh542hp/model/ with prefix 8fe65133fdb14938\n"
     ]
    },
    {
     "name": "stdout",
     "output_type": "stream",
     "text": [
      "Model trained in 0:00:01.268731\n",
      "Compiling model...\n"
     ]
    },
    {
     "name": "stderr",
     "output_type": "stream",
     "text": [
      "WARNING: All log messages before absl::InitializeLog() is called are written to STDERR\n",
      "I0000 00:00:1751529967.730673  162668 decision_forest.cc:808] Model loaded with 300 root(s), 205152 node(s), and 75 input feature(s).\n",
      "I0000 00:00:1751529967.730717  162668 abstract_model.cc:1439] Engine \"RandomForestOptPred\" built\n",
      "2025-07-03 01:06:07.730728: I tensorflow_decision_forests/tensorflow/ops/inference/kernel.cc:1035] Use fast generic engine\n"
     ]
    },
    {
     "name": "stdout",
     "output_type": "stream",
     "text": [
      "Model compiled.\n"
     ]
    },
    {
     "data": {
      "text/plain": [
       "<tf_keras.src.callbacks.History at 0x140518c20>"
      ]
     },
     "execution_count": 42,
     "metadata": {},
     "output_type": "execute_result"
    }
   ],
   "source": [
    "#fit the training set to the model\n",
    "\n",
    "tfdf_reg.fit(train_ds)\n"
   ]
  },
  {
   "cell_type": "code",
   "execution_count": 43,
   "id": "747b8333-2c3f-4a62-9ff5-fd22e6b8b9ef",
   "metadata": {},
   "outputs": [
    {
     "name": "stdout",
     "output_type": "stream",
     "text": [
      "1/1 [==============================] - 0s 256ms/step - loss: 1735148928.0000 - mse: 1735148928.0000\n"
     ]
    },
    {
     "data": {
      "text/plain": [
       "[1735148928.0, 1735148928.0]"
      ]
     },
     "execution_count": 43,
     "metadata": {},
     "output_type": "execute_result"
    }
   ],
   "source": [
    "#evaluate model and print the MSE score\n",
    "\n",
    "mse_score = tfdf_reg.evaluate(test_ds)\n",
    "\n",
    "mse_score"
   ]
  },
  {
   "cell_type": "code",
   "execution_count": 44,
   "id": "831c7cd0-4fd3-4053-a138-3947daf3ed9f",
   "metadata": {},
   "outputs": [
    {
     "data": {
      "text/plain": [
       "array([41655.11886911, 41655.11886911])"
      ]
     },
     "execution_count": 44,
     "metadata": {},
     "output_type": "execute_result"
    }
   ],
   "source": [
    "#to compare it to the above model RMSE scores, convert MSE to RMSE score and print \n",
    "\n",
    "rmse = np.sqrt(mse_score)\n",
    "\n",
    "rmse"
   ]
  },
  {
   "cell_type": "code",
   "execution_count": 45,
   "id": "1cacac46-b4c1-4499-813f-46ac17b3f1ff",
   "metadata": {},
   "outputs": [],
   "source": [
    "#Create gradient boosted model "
   ]
  },
  {
   "cell_type": "code",
   "execution_count": 46,
   "id": "d28114f6-3f08-466c-a2d3-fbdf839ef8f9",
   "metadata": {},
   "outputs": [
    {
     "name": "stdout",
     "output_type": "stream",
     "text": [
      "Resolve hyper-parameter template \"benchmark_rank1\" to \"benchmark_rank1@v1\" -> {'growing_strategy': 'BEST_FIRST_GLOBAL', 'categorical_algorithm': 'RANDOM', 'split_axis': 'SPARSE_OBLIQUE', 'sparse_oblique_normalization': 'MIN_MAX', 'sparse_oblique_num_projections_exponent': 1.0}.\n",
      "Use /var/folders/wd/yyjz2gbj6_37z_mcyx9sr4000000gn/T/tmphnk5i8nz as temporary training directory\n"
     ]
    },
    {
     "name": "stderr",
     "output_type": "stream",
     "text": [
      "W0000 00:00:1751529968.700141  162668 gradient_boosted_trees.cc:1873] \"goss_alpha\" set but \"sampling_method\" not equal to \"GOSS\".\n",
      "W0000 00:00:1751529968.700151  162668 gradient_boosted_trees.cc:1883] \"goss_beta\" set but \"sampling_method\" not equal to \"GOSS\".\n",
      "W0000 00:00:1751529968.700152  162668 gradient_boosted_trees.cc:1897] \"selective_gradient_boosting_ratio\" set but \"sampling_method\" not equal to \"SELGB\".\n"
     ]
    }
   ],
   "source": [
    "gradientBTM = tfdf.keras.GradientBoostedTreesModel(hyperparameter_template = 'benchmark_rank1', task = tfdf.keras.Task.REGRESSION)"
   ]
  },
  {
   "cell_type": "code",
   "execution_count": 47,
   "id": "8b2ae8d5-fbe1-4d0e-ae9f-1ff1d0d22d04",
   "metadata": {},
   "outputs": [],
   "source": [
    "gradientBTM.compile(optimizer='adam', loss='mse', metrics=['mse'])"
   ]
  },
  {
   "cell_type": "code",
   "execution_count": 48,
   "id": "4b3b8ee8-f18b-4ab8-9520-9ba018bd2145",
   "metadata": {
    "scrolled": true
   },
   "outputs": [
    {
     "name": "stdout",
     "output_type": "stream",
     "text": [
      "Reading training dataset...\n",
      "Training dataset read in 0:00:00.347608. Found 2335 examples.\n",
      "Training model...\n"
     ]
    },
    {
     "name": "stderr",
     "output_type": "stream",
     "text": [
      "I0000 00:00:1751529969.058086  162668 kernel.cc:782] Start Yggdrasil model training\n",
      "I0000 00:00:1751529969.058097  162668 kernel.cc:783] Collect training examples\n",
      "I0000 00:00:1751529969.058102  162668 kernel.cc:795] Dataspec guide:\n",
      "column_guides {\n",
      "  column_name_pattern: \"^__LABEL$\"\n",
      "  type: NUMERICAL\n",
      "}\n",
      "default_column_guide {\n",
      "  categorial {\n",
      "    max_vocab_count: 2000\n",
      "  }\n",
      "  discretized_numerical {\n",
      "    maximum_num_bins: 255\n",
      "  }\n",
      "}\n",
      "ignore_columns_without_guides: false\n",
      "detect_numerical_as_discretized_numerical: false\n",
      "\n",
      "I0000 00:00:1751529969.058227  162668 kernel.cc:401] Number of batches: 3\n",
      "I0000 00:00:1751529969.058232  162668 kernel.cc:402] Number of examples: 2335\n",
      "I0000 00:00:1751529969.060294  162668 data_spec_inference.cc:354] 1 item(s) have been pruned (i.e. they are considered out of dictionary) for the column BsmtCond (3 item(s) left) because min_value_count=5 and max_number_of_unique_values=2000\n",
      "I0000 00:00:1751529969.060308  162668 data_spec_inference.cc:354] 5 item(s) have been pruned (i.e. they are considered out of dictionary) for the column Condition2 (3 item(s) left) because min_value_count=5 and max_number_of_unique_values=2000\n",
      "I0000 00:00:1751529969.060311  162668 data_spec_inference.cc:354] 1 item(s) have been pruned (i.e. they are considered out of dictionary) for the column Electrical (4 item(s) left) because min_value_count=5 and max_number_of_unique_values=2000\n",
      "I0000 00:00:1751529969.060313  162668 data_spec_inference.cc:354] 1 item(s) have been pruned (i.e. they are considered out of dictionary) for the column ExterCond (4 item(s) left) because min_value_count=5 and max_number_of_unique_values=2000\n",
      "I0000 00:00:1751529969.060317  162668 data_spec_inference.cc:354] 3 item(s) have been pruned (i.e. they are considered out of dictionary) for the column Exterior1st (10 item(s) left) because min_value_count=5 and max_number_of_unique_values=2000\n",
      "I0000 00:00:1751529969.060321  162668 data_spec_inference.cc:354] 4 item(s) have been pruned (i.e. they are considered out of dictionary) for the column Exterior2nd (12 item(s) left) because min_value_count=5 and max_number_of_unique_values=2000\n",
      "I0000 00:00:1751529969.060331  162668 data_spec_inference.cc:354] 1 item(s) have been pruned (i.e. they are considered out of dictionary) for the column Foundation (5 item(s) left) because min_value_count=5 and max_number_of_unique_values=2000\n",
      "I0000 00:00:1751529969.060335  162668 data_spec_inference.cc:354] 1 item(s) have been pruned (i.e. they are considered out of dictionary) for the column Functional (6 item(s) left) because min_value_count=5 and max_number_of_unique_values=2000\n",
      "I0000 00:00:1751529969.060338  162668 data_spec_inference.cc:354] 1 item(s) have been pruned (i.e. they are considered out of dictionary) for the column GarageCond (4 item(s) left) because min_value_count=5 and max_number_of_unique_values=2000\n",
      "I0000 00:00:1751529969.060342  162668 data_spec_inference.cc:354] 2 item(s) have been pruned (i.e. they are considered out of dictionary) for the column GarageQual (3 item(s) left) because min_value_count=5 and max_number_of_unique_values=2000\n",
      "I0000 00:00:1751529969.060346  162668 data_spec_inference.cc:354] 2 item(s) have been pruned (i.e. they are considered out of dictionary) for the column Heating (3 item(s) left) because min_value_count=5 and max_number_of_unique_values=2000\n",
      "I0000 00:00:1751529969.060348  162668 data_spec_inference.cc:354] 1 item(s) have been pruned (i.e. they are considered out of dictionary) for the column HeatingQC (4 item(s) left) because min_value_count=5 and max_number_of_unique_values=2000\n",
      "I0000 00:00:1751529969.060359  162668 data_spec_inference.cc:354] 2 item(s) have been pruned (i.e. they are considered out of dictionary) for the column MiscFeature (2 item(s) left) because min_value_count=5 and max_number_of_unique_values=2000\n",
      "I0000 00:00:1751529969.060367  162668 data_spec_inference.cc:354] 3 item(s) have been pruned (i.e. they are considered out of dictionary) for the column PoolQC (0 item(s) left) because min_value_count=5 and max_number_of_unique_values=2000\n",
      "I0000 00:00:1751529969.060370  162668 data_spec_inference.cc:354] 3 item(s) have been pruned (i.e. they are considered out of dictionary) for the column RoofMatl (4 item(s) left) because min_value_count=5 and max_number_of_unique_values=2000\n",
      "I0000 00:00:1751529969.060373  162668 data_spec_inference.cc:354] 1 item(s) have been pruned (i.e. they are considered out of dictionary) for the column RoofStyle (5 item(s) left) because min_value_count=5 and max_number_of_unique_values=2000\n",
      "I0000 00:00:1751529969.060377  162668 data_spec_inference.cc:354] 1 item(s) have been pruned (i.e. they are considered out of dictionary) for the column SaleType (8 item(s) left) because min_value_count=5 and max_number_of_unique_values=2000\n",
      "I0000 00:00:1751529969.061931  162668 kernel.cc:802] Training dataset:\n",
      "Number of records: 2335\n",
      "Number of columns: 80\n",
      "\n",
      "Number of columns by type:\n",
      "\tCATEGORICAL: 43 (53.75%)\n",
      "\tNUMERICAL: 37 (46.25%)\n",
      "\n",
      "Columns:\n",
      "\n",
      "CATEGORICAL: 43 (53.75%)\n",
      "\t3: \"Alley\" CATEGORICAL num-nas:2187 (93.6617%) has-dict vocab-size:3 zero-ood-items most-frequent:\"Grvl\" 89 (60.1351%)\n",
      "\t5: \"BldgType\" CATEGORICAL has-dict vocab-size:6 zero-ood-items most-frequent:\"1Fam\" 1939 (83.0407%)\n",
      "\t6: \"BsmtCond\" CATEGORICAL num-nas:62 (2.65525%) has-dict vocab-size:4 num-oods:4 (0.175979%) most-frequent:\"TA\" 2104 (92.5649%)\n",
      "\t7: \"BsmtExposure\" CATEGORICAL num-nas:62 (2.65525%) has-dict vocab-size:5 zero-ood-items most-frequent:\"No\" 1533 (67.4439%)\n",
      "\t10: \"BsmtFinType1\" CATEGORICAL num-nas:60 (2.56959%) has-dict vocab-size:7 zero-ood-items most-frequent:\"Unf\" 677 (29.7582%)\n",
      "\t11: \"BsmtFinType2\" CATEGORICAL num-nas:60 (2.56959%) has-dict vocab-size:7 zero-ood-items most-frequent:\"Unf\" 1991 (87.5165%)\n",
      "\t14: \"BsmtQual\" CATEGORICAL num-nas:62 (2.65525%) has-dict vocab-size:5 zero-ood-items most-frequent:\"TA\" 1033 (45.4465%)\n",
      "\t16: \"CentralAir\" CATEGORICAL has-dict vocab-size:3 zero-ood-items most-frequent:\"Y\" 2178 (93.2762%)\n",
      "\t17: \"Condition1\" CATEGORICAL has-dict vocab-size:10 zero-ood-items most-frequent:\"Norm\" 2012 (86.167%)\n",
      "\t18: \"Condition2\" CATEGORICAL has-dict vocab-size:4 num-oods:11 (0.471092%) most-frequent:\"Norm\" 2307 (98.8009%)\n",
      "\t19: \"Electrical\" CATEGORICAL num-nas:1 (0.0428266%) has-dict vocab-size:5 num-oods:1 (0.0428449%) most-frequent:\"SBrkr\" 2152 (92.2022%)\n",
      "\t21: \"ExterCond\" CATEGORICAL has-dict vocab-size:5 num-oods:3 (0.12848%) most-frequent:\"TA\" 2040 (87.3662%)\n",
      "\t22: \"ExterQual\" CATEGORICAL has-dict vocab-size:5 zero-ood-items most-frequent:\"TA\" 1444 (61.8415%)\n",
      "\t23: \"Exterior1st\" CATEGORICAL num-nas:1 (0.0428266%) has-dict vocab-size:11 num-oods:7 (0.299914%) most-frequent:\"VinylSd\" 816 (34.9614%)\n",
      "\t24: \"Exterior2nd\" CATEGORICAL num-nas:1 (0.0428266%) has-dict vocab-size:13 num-oods:9 (0.385604%) most-frequent:\"VinylSd\" 808 (34.6187%)\n",
      "\t25: \"Fence\" CATEGORICAL num-nas:1876 (80.3426%) has-dict vocab-size:5 zero-ood-items most-frequent:\"MnPrv\" 265 (57.7342%)\n",
      "\t26: \"FireplaceQu\" CATEGORICAL num-nas:1121 (48.0086%) has-dict vocab-size:6 zero-ood-items most-frequent:\"Gd\" 596 (49.0939%)\n",
      "\t28: \"Foundation\" CATEGORICAL has-dict vocab-size:6 num-oods:3 (0.12848%) most-frequent:\"PConc\" 1054 (45.1392%)\n",
      "\t30: \"Functional\" CATEGORICAL num-nas:1 (0.0428266%) has-dict vocab-size:7 num-oods:2 (0.0856898%) most-frequent:\"Typ\" 2176 (93.2305%)\n",
      "\t33: \"GarageCond\" CATEGORICAL num-nas:128 (5.4818%) has-dict vocab-size:5 num-oods:3 (0.135931%) most-frequent:\"TA\" 2129 (96.4658%)\n",
      "\t34: \"GarageFinish\" CATEGORICAL num-nas:128 (5.4818%) has-dict vocab-size:4 zero-ood-items most-frequent:\"Unf\" 981 (44.4495%)\n",
      "\t35: \"GarageQual\" CATEGORICAL num-nas:128 (5.4818%) has-dict vocab-size:4 num-oods:7 (0.317173%) most-frequent:\"TA\" 2092 (94.7893%)\n",
      "\t36: \"GarageType\" CATEGORICAL num-nas:126 (5.39615%) has-dict vocab-size:7 zero-ood-items most-frequent:\"Attchd\" 1393 (63.0602%)\n",
      "\t40: \"Heating\" CATEGORICAL has-dict vocab-size:4 num-oods:4 (0.171306%) most-frequent:\"GasA\" 2300 (98.5011%)\n",
      "\t41: \"HeatingQC\" CATEGORICAL has-dict vocab-size:5 num-oods:2 (0.0856531%) most-frequent:\"Ex\" 1192 (51.0493%)\n",
      "\t42: \"HouseStyle\" CATEGORICAL has-dict vocab-size:9 zero-ood-items most-frequent:\"1Story\" 1172 (50.1927%)\n",
      "\t44: \"KitchenQual\" CATEGORICAL num-nas:1 (0.0428266%) has-dict vocab-size:5 zero-ood-items most-frequent:\"TA\" 1201 (51.4567%)\n",
      "\t45: \"LandContour\" CATEGORICAL has-dict vocab-size:5 zero-ood-items most-frequent:\"Lvl\" 2108 (90.2784%)\n",
      "\t46: \"LandSlope\" CATEGORICAL has-dict vocab-size:4 zero-ood-items most-frequent:\"Gtl\" 2224 (95.2463%)\n",
      "\t48: \"LotConfig\" CATEGORICAL has-dict vocab-size:6 zero-ood-items most-frequent:\"Inside\" 1694 (72.5482%)\n",
      "\t50: \"LotShape\" CATEGORICAL has-dict vocab-size:5 zero-ood-items most-frequent:\"Reg\" 1488 (63.7259%)\n",
      "\t53: \"MSZoning\" CATEGORICAL num-nas:1 (0.0428266%) has-dict vocab-size:6 zero-ood-items most-frequent:\"RL\" 1818 (77.892%)\n",
      "\t55: \"MasVnrType\" CATEGORICAL num-nas:1416 (60.6424%) has-dict vocab-size:4 zero-ood-items most-frequent:\"BrkFace\" 700 (76.1697%)\n",
      "\t56: \"MiscFeature\" CATEGORICAL num-nas:2247 (96.2313%) has-dict vocab-size:3 num-oods:3 (3.40909%) most-frequent:\"Shed\" 80 (90.9091%)\n",
      "\t59: \"Neighborhood\" CATEGORICAL has-dict vocab-size:26 zero-ood-items most-frequent:\"NAmes\" 357 (15.2891%)\n",
      "\t63: \"PavedDrive\" CATEGORICAL has-dict vocab-size:4 zero-ood-items most-frequent:\"Y\" 2114 (90.5353%)\n",
      "\t65: \"PoolQC\" CATEGORICAL num-nas:2327 (99.6574%) has-dict vocab-size:1 num-oods:8 (100%)\n",
      "\t66: \"RoofMatl\" CATEGORICAL has-dict vocab-size:5 num-oods:3 (0.12848%) most-frequent:\"CompShg\" 2304 (98.6724%)\n",
      "\t67: \"RoofStyle\" CATEGORICAL has-dict vocab-size:6 num-oods:4 (0.171306%) most-frequent:\"Gable\" 1845 (79.015%)\n",
      "\t68: \"SaleCondition\" CATEGORICAL has-dict vocab-size:7 zero-ood-items most-frequent:\"Normal\" 1920 (82.227%)\n",
      "\t69: \"SaleType\" CATEGORICAL num-nas:1 (0.0428266%) has-dict vocab-size:9 num-oods:4 (0.17138%) most-frequent:\"WD\" 2012 (86.2039%)\n",
      "\t71: \"Street\" CATEGORICAL has-dict vocab-size:3 zero-ood-items most-frequent:\"Pave\" 2326 (99.6146%)\n",
      "\t74: \"Utilities\" CATEGORICAL num-nas:1 (0.0428266%) has-dict vocab-size:2 zero-ood-items most-frequent:\"AllPub\" 2334 (100%)\n",
      "\n",
      "NUMERICAL: 37 (46.25%)\n",
      "\t0: \"1stFlrSF\" NUMERICAL mean:1159.37 min:438 max:5095 sd:395.664\n",
      "\t1: \"2ndFlrSF\" NUMERICAL mean:331.731 min:0 max:2065 sd:423.669\n",
      "\t2: \"3SsnPorch\" NUMERICAL mean:2.75846 min:0 max:508 sd:26.3406\n",
      "\t4: \"BedroomAbvGr\" NUMERICAL mean:2.85439 min:0 max:8 sd:0.813298\n",
      "\t8: \"BsmtFinSF1\" NUMERICAL num-nas:1 (0.0428266%) mean:441.404 min:0 max:5644 sd:457.004\n",
      "\t9: \"BsmtFinSF2\" NUMERICAL num-nas:1 (0.0428266%) mean:50.9953 min:0 max:1526 sd:169.561\n",
      "\t12: \"BsmtFullBath\" NUMERICAL num-nas:2 (0.0856531%) mean:0.42949 min:0 max:3 sd:0.521978\n",
      "\t13: \"BsmtHalfBath\" NUMERICAL num-nas:2 (0.0856531%) mean:0.0634376 min:0 max:2 sd:0.250684\n",
      "\t15: \"BsmtUnfSF\" NUMERICAL num-nas:1 (0.0428266%) mean:561.149 min:0 max:2336 sd:443.593\n",
      "\t20: \"EnclosedPorch\" NUMERICAL mean:22.2304 min:0 max:1012 sd:63.4612\n",
      "\t27: \"Fireplaces\" NUMERICAL mean:0.60257 min:0 max:4 sd:0.642927\n",
      "\t29: \"FullBath\" NUMERICAL mean:1.56445 min:0 max:4 sd:0.549109\n",
      "\t31: \"GarageArea\" NUMERICAL num-nas:1 (0.0428266%) mean:471.911 min:0 max:1488 sd:212.391\n",
      "\t32: \"GarageCars\" NUMERICAL num-nas:1 (0.0428266%) mean:1.76864 min:0 max:5 sd:0.756311\n",
      "\t37: \"GarageYrBlt\" NUMERICAL num-nas:128 (5.4818%) mean:1978.56 min:1895 max:2207 sd:25.3654\n",
      "\t38: \"GrLivArea\" NUMERICAL mean:1495.61 min:438 max:5642 sd:501.677\n",
      "\t39: \"HalfBath\" NUMERICAL mean:0.373876 min:0 max:2 sd:0.501222\n",
      "\t43: \"KitchenAbvGr\" NUMERICAL mean:1.0424 min:0 max:3 sd:0.209826\n",
      "\t47: \"LotArea\" NUMERICAL mean:10096.4 min:1300 max:164660 sd:7237.38\n",
      "\t49: \"LotFrontage\" NUMERICAL num-nas:377 (16.1456%) mean:69.1665 min:21 max:313 sd:23.3661\n",
      "\t51: \"LowQualFinSF\" NUMERICAL mean:4.50578 min:0 max:1064 sd:46.927\n",
      "\t52: \"MSSubClass\" NUMERICAL mean:57.349 min:20 max:190 sd:42.5209\n",
      "\t54: \"MasVnrArea\" NUMERICAL num-nas:21 (0.899358%) mean:100.939 min:0 max:1600 sd:177.767\n",
      "\t57: \"MiscVal\" NUMERICAL mean:56.1268 min:0 max:17000 sd:614.363\n",
      "\t58: \"MoSold\" NUMERICAL mean:6.23983 min:1 max:12 sd:2.70519\n",
      "\t60: \"OpenPorchSF\" NUMERICAL mean:46.7101 min:0 max:742 sd:65.9458\n",
      "\t61: \"OverallCond\" NUMERICAL mean:5.56017 min:1 max:9 sd:1.10543\n",
      "\t62: \"OverallQual\" NUMERICAL mean:6.09807 min:1 max:10 sd:1.40549\n",
      "\t64: \"PoolArea\" NUMERICAL mean:2.40128 min:0 max:800 sd:36.5314\n",
      "\t70: \"ScreenPorch\" NUMERICAL mean:15.8188 min:0 max:576 sd:55.7799\n",
      "\t72: \"TotRmsAbvGrd\" NUMERICAL mean:6.44925 min:3 max:15 sd:1.56127\n",
      "\t73: \"TotalBsmtSF\" NUMERICAL num-nas:1 (0.0428266%) mean:1053.55 min:0 max:6110 sd:443.209\n",
      "\t75: \"WoodDeckSF\" NUMERICAL mean:93.5032 min:0 max:1424 sd:125.957\n",
      "\t76: \"YearBuilt\" NUMERICAL mean:1971.62 min:1875 max:2010 sd:30.0743\n",
      "\t77: \"YearRemodAdd\" NUMERICAL mean:1984.2 min:1950 max:2010 sd:20.8768\n",
      "\t78: \"YrSold\" NUMERICAL mean:2007.78 min:2006 max:2010 sd:1.31673\n",
      "\t79: \"__LABEL\" NUMERICAL mean:179373 min:35311 max:745000 sd:56390.9\n",
      "\n",
      "Terminology:\n",
      "\tnas: Number of non-available (i.e. missing) values.\n",
      "\tood: Out of dictionary.\n",
      "\tmanually-defined: Attribute whose type is manually defined by the user, i.e., the type was not automatically inferred.\n",
      "\ttokenized: The attribute value is obtained through tokenization.\n",
      "\thas-dict: The attribute is attached to a string dictionary e.g. a categorical attribute stored as a string.\n",
      "\tvocab-size: Number of unique values.\n",
      "\n",
      "I0000 00:00:1751529969.061982  162668 kernel.cc:818] Configure learner\n",
      "W0000 00:00:1751529969.062095  162668 gradient_boosted_trees.cc:1873] \"goss_alpha\" set but \"sampling_method\" not equal to \"GOSS\".\n",
      "W0000 00:00:1751529969.062097  162668 gradient_boosted_trees.cc:1883] \"goss_beta\" set but \"sampling_method\" not equal to \"GOSS\".\n",
      "W0000 00:00:1751529969.062099  162668 gradient_boosted_trees.cc:1897] \"selective_gradient_boosting_ratio\" set but \"sampling_method\" not equal to \"SELGB\".\n",
      "I0000 00:00:1751529969.062122  162668 kernel.cc:831] Training config:\n",
      "learner: \"GRADIENT_BOOSTED_TREES\"\n",
      "features: \"^1stFlrSF$\"\n",
      "features: \"^2ndFlrSF$\"\n",
      "features: \"^3SsnPorch$\"\n",
      "features: \"^Alley$\"\n",
      "features: \"^BedroomAbvGr$\"\n",
      "features: \"^BldgType$\"\n",
      "features: \"^BsmtCond$\"\n",
      "features: \"^BsmtExposure$\"\n",
      "features: \"^BsmtFinSF1$\"\n",
      "features: \"^BsmtFinSF2$\"\n",
      "features: \"^BsmtFinType1$\"\n",
      "features: \"^BsmtFinType2$\"\n",
      "features: \"^BsmtFullBath$\"\n",
      "features: \"^BsmtHalfBath$\"\n",
      "features: \"^BsmtQual$\"\n",
      "features: \"^BsmtUnfSF$\"\n",
      "features: \"^CentralAir$\"\n",
      "features: \"^Condition1$\"\n",
      "features: \"^Condition2$\"\n",
      "features: \"^Electrical$\"\n",
      "features: \"^EnclosedPorch$\"\n",
      "features: \"^ExterCond$\"\n",
      "features: \"^ExterQual$\"\n",
      "features: \"^Exterior1st$\"\n",
      "features: \"^Exterior2nd$\"\n",
      "features: \"^Fence$\"\n",
      "features: \"^FireplaceQu$\"\n",
      "features: \"^Fireplaces$\"\n",
      "features: \"^Foundation$\"\n",
      "features: \"^FullBath$\"\n",
      "features: \"^Functional$\"\n",
      "features: \"^GarageArea$\"\n",
      "features: \"^GarageCars$\"\n",
      "features: \"^GarageCond$\"\n",
      "features: \"^GarageFinish$\"\n",
      "features: \"^GarageQual$\"\n",
      "features: \"^GarageType$\"\n",
      "features: \"^GarageYrBlt$\"\n",
      "features: \"^GrLivArea$\"\n",
      "features: \"^HalfBath$\"\n",
      "features: \"^Heating$\"\n",
      "features: \"^HeatingQC$\"\n",
      "features: \"^HouseStyle$\"\n",
      "features: \"^KitchenAbvGr$\"\n",
      "features: \"^KitchenQual$\"\n",
      "features: \"^LandContour$\"\n",
      "features: \"^LandSlope$\"\n",
      "features: \"^LotArea$\"\n",
      "features: \"^LotConfig$\"\n",
      "features: \"^LotFrontage$\"\n",
      "features: \"^LotShape$\"\n",
      "features: \"^LowQualFinSF$\"\n",
      "features: \"^MSSubClass$\"\n",
      "features: \"^MSZoning$\"\n",
      "features: \"^MasVnrArea$\"\n",
      "features: \"^MasVnrType$\"\n",
      "features: \"^MiscFeature$\"\n",
      "features: \"^MiscVal$\"\n",
      "features: \"^MoSold$\"\n",
      "features: \"^Neighborhood$\"\n",
      "features: \"^OpenPorchSF$\"\n",
      "features: \"^OverallCond$\"\n",
      "features: \"^OverallQual$\"\n",
      "features: \"^PavedDrive$\"\n",
      "features: \"^PoolArea$\"\n",
      "features: \"^PoolQC$\"\n",
      "features: \"^RoofMatl$\"\n",
      "features: \"^RoofStyle$\"\n",
      "features: \"^SaleCondition$\"\n",
      "features: \"^SaleType$\"\n",
      "features: \"^ScreenPorch$\"\n",
      "features: \"^Street$\"\n",
      "features: \"^TotRmsAbvGrd$\"\n",
      "features: \"^TotalBsmtSF$\"\n",
      "features: \"^Utilities$\"\n",
      "features: \"^WoodDeckSF$\"\n",
      "features: \"^YearBuilt$\"\n",
      "features: \"^YearRemodAdd$\"\n",
      "features: \"^YrSold$\"\n",
      "label: \"^__LABEL$\"\n",
      "task: REGRESSION\n",
      "random_seed: 123456\n",
      "metadata {\n",
      "  framework: \"TF Keras\"\n",
      "}\n",
      "pure_serving_model: false\n",
      "[yggdrasil_decision_forests.model.gradient_boosted_trees.proto.gradient_boosted_trees_config] {\n",
      "  num_trees: 300\n",
      "  decision_tree {\n",
      "    max_depth: 6\n",
      "    min_examples: 5\n",
      "    in_split_min_examples_check: true\n",
      "    keep_non_leaf_label_distribution: true\n",
      "    num_candidate_attributes: -1\n",
      "    missing_value_policy: GLOBAL_IMPUTATION\n",
      "    allow_na_conditions: false\n",
      "    categorical_set_greedy_forward {\n",
      "      sampling: 0.1\n",
      "      max_num_items: -1\n",
      "      min_item_frequency: 1\n",
      "    }\n",
      "    growing_strategy_best_first_global {\n",
      "    }\n",
      "    categorical {\n",
      "      random {\n",
      "      }\n",
      "    }\n",
      "    sparse_oblique_split {\n",
      "      num_projections_exponent: 1\n",
      "      normalization: MIN_MAX\n",
      "    }\n",
      "    internal {\n",
      "      sorting_strategy: PRESORTED\n",
      "    }\n",
      "    uplift {\n",
      "      min_examples_in_treatment: 5\n",
      "      split_score: KULLBACK_LEIBLER\n",
      "    }\n",
      "    numerical_vector_sequence {\n",
      "      max_num_test_examples: 1000\n",
      "      num_random_selected_anchors: 100\n",
      "    }\n",
      "  }\n",
      "  shrinkage: 0.1\n",
      "  loss: DEFAULT\n",
      "  validation_set_ratio: 0.1\n",
      "  validation_interval_in_trees: 1\n",
      "  early_stopping: VALIDATION_LOSS_INCREASE\n",
      "  early_stopping_num_trees_look_ahead: 30\n",
      "  l2_regularization: 0\n",
      "  lambda_loss: 1\n",
      "  mart {\n",
      "  }\n",
      "  adapt_subsample_for_maximum_training_duration: false\n",
      "  l1_regularization: 0\n",
      "  use_hessian_gain: false\n",
      "  l2_regularization_categorical: 1\n",
      "  xe_ndcg {\n",
      "    ndcg_truncation: 5\n",
      "  }\n",
      "  stochastic_gradient_boosting {\n",
      "    ratio: 1\n",
      "  }\n",
      "  apply_link_function: true\n",
      "  compute_permutation_variable_importance: false\n",
      "  early_stopping_initial_iteration: 10\n",
      "}\n",
      "\n",
      "I0000 00:00:1751529969.062253  162668 kernel.cc:834] Deployment config:\n",
      "cache_path: \"/var/folders/wd/yyjz2gbj6_37z_mcyx9sr4000000gn/T/tmphnk5i8nz/working_cache\"\n",
      "num_threads: 8\n",
      "try_resume_training: true\n",
      "\n",
      "I0000 00:00:1751529969.062300  334012 kernel.cc:895] Train model\n",
      "I0000 00:00:1751529969.062596  334012 gradient_boosted_trees.cc:577] Default loss set to SQUARED_ERROR\n",
      "I0000 00:00:1751529969.062614  334012 gradient_boosted_trees.cc:1190] Training gradient boosted tree on 2335 example(s) and 79 feature(s).\n",
      "I0000 00:00:1751529969.063492  334012 gradient_boosted_trees.cc:1230] 2132 examples used for training and 203 examples used for validation\n",
      "I0000 00:00:1751529969.063561  334012 gpu.cc:93] Cannot initialize GPU: Not compiled with GPU support\n",
      "I0000 00:00:1751529969.084605  334012 gradient_boosted_trees.cc:1632] Train tree 1/300 train-loss:52716.429688 train-rmse:52716.429688 valid-loss:58643.093750 valid-rmse:58643.093750 [total:0.02s iter:0.02s]\n",
      "I0000 00:00:1751529969.105102  334012 gradient_boosted_trees.cc:1632] Train tree 2/300 train-loss:49712.894531 train-rmse:49712.894531 valid-loss:55784.925781 valid-rmse:55784.925781 [total:0.04s iter:0.02s]\n",
      "I0000 00:00:1751529969.124448  334012 gradient_boosted_trees.cc:1634] Train tree 3/300 train-loss:47057.449219 train-rmse:47057.449219 valid-loss:54004.621094 valid-rmse:54004.621094 [total:0.06s iter:0.02s]\n"
     ]
    },
    {
     "name": "stdout",
     "output_type": "stream",
     "text": [
      "Model trained in 0:00:01.178751\n",
      "Compiling model...\n"
     ]
    },
    {
     "name": "stderr",
     "output_type": "stream",
     "text": [
      "I0000 00:00:1751529970.208112  334012 early_stopping.cc:54] Early stop of the training because the validation loss does not decrease anymore. Best valid-loss: 39750\n",
      "I0000 00:00:1751529970.208124  334012 gradient_boosted_trees.cc:1669] Create final snapshot of the model at iteration 67\n",
      "I0000 00:00:1751529970.209913  334012 gradient_boosted_trees.cc:279] Truncates the model to 38 tree(s) i.e. 38  iteration(s).\n",
      "I0000 00:00:1751529970.210052  334012 gradient_boosted_trees.cc:341] Final model num-trees:38 valid-loss:39749.988281 valid-rmse:39749.988281\n",
      "I0000 00:00:1751529970.212073  334012 kernel.cc:926] Export model in log directory: /var/folders/wd/yyjz2gbj6_37z_mcyx9sr4000000gn/T/tmphnk5i8nz with prefix 7c26d53ca53a40aa\n",
      "I0000 00:00:1751529970.213772  334012 kernel.cc:944] Save model in resources\n",
      "I0000 00:00:1751529970.214500  162668 abstract_model.cc:921] Model self evaluation:\n",
      "Number of predictions (with weights): 1\n",
      "Task: REGRESSION\n",
      "Loss (SQUARED_ERROR): 39750\n",
      "\n",
      "RMSE: 199.374\n",
      "Default RMSE: : 0\n",
      "\n",
      "2025-07-03 01:06:10.232204: I tensorflow_decision_forests/tensorflow/ops/inference/kernel.cc:1206] Loading model from path /var/folders/wd/yyjz2gbj6_37z_mcyx9sr4000000gn/T/tmphnk5i8nz/model/ with prefix 7c26d53ca53a40aa\n",
      "I0000 00:00:1751529970.235262  162668 decision_forest.cc:808] Model loaded with 38 root(s), 2260 node(s), and 69 input feature(s).\n",
      "2025-07-03 01:06:10.235277: I tensorflow_decision_forests/tensorflow/ops/inference/kernel.cc:1035] Use fast generic engine\n"
     ]
    },
    {
     "name": "stdout",
     "output_type": "stream",
     "text": [
      "Model compiled.\n"
     ]
    },
    {
     "data": {
      "text/plain": [
       "<tf_keras.src.callbacks.History at 0x30c2be660>"
      ]
     },
     "execution_count": 48,
     "metadata": {},
     "output_type": "execute_result"
    }
   ],
   "source": [
    "gradientBTM.fit(train_ds)"
   ]
  },
  {
   "cell_type": "code",
   "execution_count": 49,
   "id": "edb02900-4962-48a4-9078-78bb5ee3fbd3",
   "metadata": {},
   "outputs": [
    {
     "name": "stdout",
     "output_type": "stream",
     "text": [
      "1/1 [==============================] - 0s 145ms/step - loss: 1870086144.0000 - mse: 1870086144.0000\n"
     ]
    },
    {
     "data": {
      "text/plain": [
       "[1870086144.0, 1870086144.0]"
      ]
     },
     "execution_count": 49,
     "metadata": {},
     "output_type": "execute_result"
    }
   ],
   "source": [
    "#Evaluate MSE score\n",
    "\n",
    "mse_gbtm_score = gradientBTM.evaluate(test_ds)\n",
    "\n",
    "mse_gbtm_score"
   ]
  },
  {
   "cell_type": "code",
   "execution_count": 50,
   "id": "ccbae229-4b30-4ad1-ae21-a2bc3b3b13fd",
   "metadata": {},
   "outputs": [
    {
     "data": {
      "text/plain": [
       "array([43244.49264357, 43244.49264357])"
      ]
     },
     "execution_count": 50,
     "metadata": {},
     "output_type": "execute_result"
    }
   ],
   "source": [
    "#find RMSE score from MSE \n",
    "\n",
    "rmse_gbtm = np.sqrt(mse_gbtm_score)\n",
    "\n",
    "rmse_gbtm"
   ]
  },
  {
   "cell_type": "code",
   "execution_count": 51,
   "id": "324e7645-5834-4808-bbe9-91b0892ddb17",
   "metadata": {},
   "outputs": [],
   "source": [
    "#Tune hyperparameters in attempt to improve the model\n",
    "\n",
    "#configure the tuner \n",
    "\n",
    "tuner = tfdf.tuner.RandomSearch(num_trials = 50)"
   ]
  },
  {
   "cell_type": "code",
   "execution_count": 52,
   "id": "3aa3bb94-8e95-47ec-b2ff-1a694e05114c",
   "metadata": {},
   "outputs": [
    {
     "data": {
      "text/plain": [
       "<tensorflow_decision_forests.component.tuner.tuner.SearchSpace at 0x30c254650>"
      ]
     },
     "execution_count": 52,
     "metadata": {},
     "output_type": "execute_result"
    }
   ],
   "source": [
    "# Define which parameters that will be searched\n",
    "\n",
    "tuner.choice('num_trees', [300, 600, 900])\n",
    "tuner.choice('max_depth', [5, 6, 7, 8])\n",
    "tuner.choice('min_examples', [4, 5, 6, 7])\n",
    "tuner.choice('l1_regularization', [0.01, 0.1, 0.0, 1.0, 10.0])\n",
    "tuner.choice('l2_regularization', [0.01, 0.1, 0.0, 1.0, 10.0])"
   ]
  },
  {
   "cell_type": "code",
   "execution_count": 53,
   "id": "b8a2c29f-5a47-474e-8111-7b00d1893a5b",
   "metadata": {
    "scrolled": true
   },
   "outputs": [
    {
     "name": "stdout",
     "output_type": "stream",
     "text": [
      "Use /var/folders/wd/yyjz2gbj6_37z_mcyx9sr4000000gn/T/tmpzrm5p03g as temporary training directory\n",
      "Reading training dataset...\n",
      "Training tensor examples:\n",
      "Features: {'MSSubClass': <tf.Tensor 'data:0' shape=(None,) dtype=int64>, 'MSZoning': <tf.Tensor 'data_1:0' shape=(None,) dtype=string>, 'LotFrontage': <tf.Tensor 'data_2:0' shape=(None,) dtype=float64>, 'LotArea': <tf.Tensor 'data_3:0' shape=(None,) dtype=int64>, 'Street': <tf.Tensor 'data_4:0' shape=(None,) dtype=string>, 'Alley': <tf.Tensor 'data_5:0' shape=(None,) dtype=string>, 'LotShape': <tf.Tensor 'data_6:0' shape=(None,) dtype=string>, 'LandContour': <tf.Tensor 'data_7:0' shape=(None,) dtype=string>, 'Utilities': <tf.Tensor 'data_8:0' shape=(None,) dtype=string>, 'LotConfig': <tf.Tensor 'data_9:0' shape=(None,) dtype=string>, 'LandSlope': <tf.Tensor 'data_10:0' shape=(None,) dtype=string>, 'Neighborhood': <tf.Tensor 'data_11:0' shape=(None,) dtype=string>, 'Condition1': <tf.Tensor 'data_12:0' shape=(None,) dtype=string>, 'Condition2': <tf.Tensor 'data_13:0' shape=(None,) dtype=string>, 'BldgType': <tf.Tensor 'data_14:0' shape=(None,) dtype=string>, 'HouseStyle': <tf.Tensor 'data_15:0' shape=(None,) dtype=string>, 'OverallQual': <tf.Tensor 'data_16:0' shape=(None,) dtype=int64>, 'OverallCond': <tf.Tensor 'data_17:0' shape=(None,) dtype=int64>, 'YearBuilt': <tf.Tensor 'data_18:0' shape=(None,) dtype=int64>, 'YearRemodAdd': <tf.Tensor 'data_19:0' shape=(None,) dtype=int64>, 'RoofStyle': <tf.Tensor 'data_20:0' shape=(None,) dtype=string>, 'RoofMatl': <tf.Tensor 'data_21:0' shape=(None,) dtype=string>, 'Exterior1st': <tf.Tensor 'data_22:0' shape=(None,) dtype=string>, 'Exterior2nd': <tf.Tensor 'data_23:0' shape=(None,) dtype=string>, 'MasVnrType': <tf.Tensor 'data_24:0' shape=(None,) dtype=string>, 'MasVnrArea': <tf.Tensor 'data_25:0' shape=(None,) dtype=float64>, 'ExterQual': <tf.Tensor 'data_26:0' shape=(None,) dtype=string>, 'ExterCond': <tf.Tensor 'data_27:0' shape=(None,) dtype=string>, 'Foundation': <tf.Tensor 'data_28:0' shape=(None,) dtype=string>, 'BsmtQual': <tf.Tensor 'data_29:0' shape=(None,) dtype=string>, 'BsmtCond': <tf.Tensor 'data_30:0' shape=(None,) dtype=string>, 'BsmtExposure': <tf.Tensor 'data_31:0' shape=(None,) dtype=string>, 'BsmtFinType1': <tf.Tensor 'data_32:0' shape=(None,) dtype=string>, 'BsmtFinSF1': <tf.Tensor 'data_33:0' shape=(None,) dtype=float64>, 'BsmtFinType2': <tf.Tensor 'data_34:0' shape=(None,) dtype=string>, 'BsmtFinSF2': <tf.Tensor 'data_35:0' shape=(None,) dtype=float64>, 'BsmtUnfSF': <tf.Tensor 'data_36:0' shape=(None,) dtype=float64>, 'TotalBsmtSF': <tf.Tensor 'data_37:0' shape=(None,) dtype=float64>, 'Heating': <tf.Tensor 'data_38:0' shape=(None,) dtype=string>, 'HeatingQC': <tf.Tensor 'data_39:0' shape=(None,) dtype=string>, 'CentralAir': <tf.Tensor 'data_40:0' shape=(None,) dtype=string>, 'Electrical': <tf.Tensor 'data_41:0' shape=(None,) dtype=string>, '1stFlrSF': <tf.Tensor 'data_42:0' shape=(None,) dtype=int64>, '2ndFlrSF': <tf.Tensor 'data_43:0' shape=(None,) dtype=int64>, 'LowQualFinSF': <tf.Tensor 'data_44:0' shape=(None,) dtype=int64>, 'GrLivArea': <tf.Tensor 'data_45:0' shape=(None,) dtype=int64>, 'BsmtFullBath': <tf.Tensor 'data_46:0' shape=(None,) dtype=float64>, 'BsmtHalfBath': <tf.Tensor 'data_47:0' shape=(None,) dtype=float64>, 'FullBath': <tf.Tensor 'data_48:0' shape=(None,) dtype=int64>, 'HalfBath': <tf.Tensor 'data_49:0' shape=(None,) dtype=int64>, 'BedroomAbvGr': <tf.Tensor 'data_50:0' shape=(None,) dtype=int64>, 'KitchenAbvGr': <tf.Tensor 'data_51:0' shape=(None,) dtype=int64>, 'KitchenQual': <tf.Tensor 'data_52:0' shape=(None,) dtype=string>, 'TotRmsAbvGrd': <tf.Tensor 'data_53:0' shape=(None,) dtype=int64>, 'Functional': <tf.Tensor 'data_54:0' shape=(None,) dtype=string>, 'Fireplaces': <tf.Tensor 'data_55:0' shape=(None,) dtype=int64>, 'FireplaceQu': <tf.Tensor 'data_56:0' shape=(None,) dtype=string>, 'GarageType': <tf.Tensor 'data_57:0' shape=(None,) dtype=string>, 'GarageYrBlt': <tf.Tensor 'data_58:0' shape=(None,) dtype=float64>, 'GarageFinish': <tf.Tensor 'data_59:0' shape=(None,) dtype=string>, 'GarageCars': <tf.Tensor 'data_60:0' shape=(None,) dtype=float64>, 'GarageArea': <tf.Tensor 'data_61:0' shape=(None,) dtype=float64>, 'GarageQual': <tf.Tensor 'data_62:0' shape=(None,) dtype=string>, 'GarageCond': <tf.Tensor 'data_63:0' shape=(None,) dtype=string>, 'PavedDrive': <tf.Tensor 'data_64:0' shape=(None,) dtype=string>, 'WoodDeckSF': <tf.Tensor 'data_65:0' shape=(None,) dtype=int64>, 'OpenPorchSF': <tf.Tensor 'data_66:0' shape=(None,) dtype=int64>, 'EnclosedPorch': <tf.Tensor 'data_67:0' shape=(None,) dtype=int64>, '3SsnPorch': <tf.Tensor 'data_68:0' shape=(None,) dtype=int64>, 'ScreenPorch': <tf.Tensor 'data_69:0' shape=(None,) dtype=int64>, 'PoolArea': <tf.Tensor 'data_70:0' shape=(None,) dtype=int64>, 'PoolQC': <tf.Tensor 'data_71:0' shape=(None,) dtype=string>, 'Fence': <tf.Tensor 'data_72:0' shape=(None,) dtype=string>, 'MiscFeature': <tf.Tensor 'data_73:0' shape=(None,) dtype=string>, 'MiscVal': <tf.Tensor 'data_74:0' shape=(None,) dtype=int64>, 'MoSold': <tf.Tensor 'data_75:0' shape=(None,) dtype=int64>, 'YrSold': <tf.Tensor 'data_76:0' shape=(None,) dtype=int64>, 'SaleType': <tf.Tensor 'data_77:0' shape=(None,) dtype=string>, 'SaleCondition': <tf.Tensor 'data_78:0' shape=(None,) dtype=string>}\n",
      "Label: Tensor(\"data_79:0\", shape=(None,), dtype=int64)\n",
      "Weights: None\n",
      "Normalized tensor features:\n",
      " {'MSSubClass': SemanticTensor(semantic=<Semantic.NUMERICAL: 1>, tensor=<tf.Tensor 'Cast:0' shape=(None,) dtype=float32>), 'MSZoning': SemanticTensor(semantic=<Semantic.CATEGORICAL: 2>, tensor=<tf.Tensor 'data_1:0' shape=(None,) dtype=string>), 'LotFrontage': SemanticTensor(semantic=<Semantic.NUMERICAL: 1>, tensor=<tf.Tensor 'Cast_1:0' shape=(None,) dtype=float32>), 'LotArea': SemanticTensor(semantic=<Semantic.NUMERICAL: 1>, tensor=<tf.Tensor 'Cast_2:0' shape=(None,) dtype=float32>), 'Street': SemanticTensor(semantic=<Semantic.CATEGORICAL: 2>, tensor=<tf.Tensor 'data_4:0' shape=(None,) dtype=string>), 'Alley': SemanticTensor(semantic=<Semantic.CATEGORICAL: 2>, tensor=<tf.Tensor 'data_5:0' shape=(None,) dtype=string>), 'LotShape': SemanticTensor(semantic=<Semantic.CATEGORICAL: 2>, tensor=<tf.Tensor 'data_6:0' shape=(None,) dtype=string>), 'LandContour': SemanticTensor(semantic=<Semantic.CATEGORICAL: 2>, tensor=<tf.Tensor 'data_7:0' shape=(None,) dtype=string>), 'Utilities': SemanticTensor(semantic=<Semantic.CATEGORICAL: 2>, tensor=<tf.Tensor 'data_8:0' shape=(None,) dtype=string>), 'LotConfig': SemanticTensor(semantic=<Semantic.CATEGORICAL: 2>, tensor=<tf.Tensor 'data_9:0' shape=(None,) dtype=string>), 'LandSlope': SemanticTensor(semantic=<Semantic.CATEGORICAL: 2>, tensor=<tf.Tensor 'data_10:0' shape=(None,) dtype=string>), 'Neighborhood': SemanticTensor(semantic=<Semantic.CATEGORICAL: 2>, tensor=<tf.Tensor 'data_11:0' shape=(None,) dtype=string>), 'Condition1': SemanticTensor(semantic=<Semantic.CATEGORICAL: 2>, tensor=<tf.Tensor 'data_12:0' shape=(None,) dtype=string>), 'Condition2': SemanticTensor(semantic=<Semantic.CATEGORICAL: 2>, tensor=<tf.Tensor 'data_13:0' shape=(None,) dtype=string>), 'BldgType': SemanticTensor(semantic=<Semantic.CATEGORICAL: 2>, tensor=<tf.Tensor 'data_14:0' shape=(None,) dtype=string>), 'HouseStyle': SemanticTensor(semantic=<Semantic.CATEGORICAL: 2>, tensor=<tf.Tensor 'data_15:0' shape=(None,) dtype=string>), 'OverallQual': SemanticTensor(semantic=<Semantic.NUMERICAL: 1>, tensor=<tf.Tensor 'Cast_3:0' shape=(None,) dtype=float32>), 'OverallCond': SemanticTensor(semantic=<Semantic.NUMERICAL: 1>, tensor=<tf.Tensor 'Cast_4:0' shape=(None,) dtype=float32>), 'YearBuilt': SemanticTensor(semantic=<Semantic.NUMERICAL: 1>, tensor=<tf.Tensor 'Cast_5:0' shape=(None,) dtype=float32>), 'YearRemodAdd': SemanticTensor(semantic=<Semantic.NUMERICAL: 1>, tensor=<tf.Tensor 'Cast_6:0' shape=(None,) dtype=float32>), 'RoofStyle': SemanticTensor(semantic=<Semantic.CATEGORICAL: 2>, tensor=<tf.Tensor 'data_20:0' shape=(None,) dtype=string>), 'RoofMatl': SemanticTensor(semantic=<Semantic.CATEGORICAL: 2>, tensor=<tf.Tensor 'data_21:0' shape=(None,) dtype=string>), 'Exterior1st': SemanticTensor(semantic=<Semantic.CATEGORICAL: 2>, tensor=<tf.Tensor 'data_22:0' shape=(None,) dtype=string>), 'Exterior2nd': SemanticTensor(semantic=<Semantic.CATEGORICAL: 2>, tensor=<tf.Tensor 'data_23:0' shape=(None,) dtype=string>), 'MasVnrType': SemanticTensor(semantic=<Semantic.CATEGORICAL: 2>, tensor=<tf.Tensor 'data_24:0' shape=(None,) dtype=string>), 'MasVnrArea': SemanticTensor(semantic=<Semantic.NUMERICAL: 1>, tensor=<tf.Tensor 'Cast_7:0' shape=(None,) dtype=float32>), 'ExterQual': SemanticTensor(semantic=<Semantic.CATEGORICAL: 2>, tensor=<tf.Tensor 'data_26:0' shape=(None,) dtype=string>), 'ExterCond': SemanticTensor(semantic=<Semantic.CATEGORICAL: 2>, tensor=<tf.Tensor 'data_27:0' shape=(None,) dtype=string>), 'Foundation': SemanticTensor(semantic=<Semantic.CATEGORICAL: 2>, tensor=<tf.Tensor 'data_28:0' shape=(None,) dtype=string>), 'BsmtQual': SemanticTensor(semantic=<Semantic.CATEGORICAL: 2>, tensor=<tf.Tensor 'data_29:0' shape=(None,) dtype=string>), 'BsmtCond': SemanticTensor(semantic=<Semantic.CATEGORICAL: 2>, tensor=<tf.Tensor 'data_30:0' shape=(None,) dtype=string>), 'BsmtExposure': SemanticTensor(semantic=<Semantic.CATEGORICAL: 2>, tensor=<tf.Tensor 'data_31:0' shape=(None,) dtype=string>), 'BsmtFinType1': SemanticTensor(semantic=<Semantic.CATEGORICAL: 2>, tensor=<tf.Tensor 'data_32:0' shape=(None,) dtype=string>), 'BsmtFinSF1': SemanticTensor(semantic=<Semantic.NUMERICAL: 1>, tensor=<tf.Tensor 'Cast_8:0' shape=(None,) dtype=float32>), 'BsmtFinType2': SemanticTensor(semantic=<Semantic.CATEGORICAL: 2>, tensor=<tf.Tensor 'data_34:0' shape=(None,) dtype=string>), 'BsmtFinSF2': SemanticTensor(semantic=<Semantic.NUMERICAL: 1>, tensor=<tf.Tensor 'Cast_9:0' shape=(None,) dtype=float32>), 'BsmtUnfSF': SemanticTensor(semantic=<Semantic.NUMERICAL: 1>, tensor=<tf.Tensor 'Cast_10:0' shape=(None,) dtype=float32>), 'TotalBsmtSF': SemanticTensor(semantic=<Semantic.NUMERICAL: 1>, tensor=<tf.Tensor 'Cast_11:0' shape=(None,) dtype=float32>), 'Heating': SemanticTensor(semantic=<Semantic.CATEGORICAL: 2>, tensor=<tf.Tensor 'data_38:0' shape=(None,) dtype=string>), 'HeatingQC': SemanticTensor(semantic=<Semantic.CATEGORICAL: 2>, tensor=<tf.Tensor 'data_39:0' shape=(None,) dtype=string>), 'CentralAir': SemanticTensor(semantic=<Semantic.CATEGORICAL: 2>, tensor=<tf.Tensor 'data_40:0' shape=(None,) dtype=string>), 'Electrical': SemanticTensor(semantic=<Semantic.CATEGORICAL: 2>, tensor=<tf.Tensor 'data_41:0' shape=(None,) dtype=string>), '1stFlrSF': SemanticTensor(semantic=<Semantic.NUMERICAL: 1>, tensor=<tf.Tensor 'Cast_12:0' shape=(None,) dtype=float32>), '2ndFlrSF': SemanticTensor(semantic=<Semantic.NUMERICAL: 1>, tensor=<tf.Tensor 'Cast_13:0' shape=(None,) dtype=float32>), 'LowQualFinSF': SemanticTensor(semantic=<Semantic.NUMERICAL: 1>, tensor=<tf.Tensor 'Cast_14:0' shape=(None,) dtype=float32>), 'GrLivArea': SemanticTensor(semantic=<Semantic.NUMERICAL: 1>, tensor=<tf.Tensor 'Cast_15:0' shape=(None,) dtype=float32>), 'BsmtFullBath': SemanticTensor(semantic=<Semantic.NUMERICAL: 1>, tensor=<tf.Tensor 'Cast_16:0' shape=(None,) dtype=float32>), 'BsmtHalfBath': SemanticTensor(semantic=<Semantic.NUMERICAL: 1>, tensor=<tf.Tensor 'Cast_17:0' shape=(None,) dtype=float32>), 'FullBath': SemanticTensor(semantic=<Semantic.NUMERICAL: 1>, tensor=<tf.Tensor 'Cast_18:0' shape=(None,) dtype=float32>), 'HalfBath': SemanticTensor(semantic=<Semantic.NUMERICAL: 1>, tensor=<tf.Tensor 'Cast_19:0' shape=(None,) dtype=float32>), 'BedroomAbvGr': SemanticTensor(semantic=<Semantic.NUMERICAL: 1>, tensor=<tf.Tensor 'Cast_20:0' shape=(None,) dtype=float32>), 'KitchenAbvGr': SemanticTensor(semantic=<Semantic.NUMERICAL: 1>, tensor=<tf.Tensor 'Cast_21:0' shape=(None,) dtype=float32>), 'KitchenQual': SemanticTensor(semantic=<Semantic.CATEGORICAL: 2>, tensor=<tf.Tensor 'data_52:0' shape=(None,) dtype=string>), 'TotRmsAbvGrd': SemanticTensor(semantic=<Semantic.NUMERICAL: 1>, tensor=<tf.Tensor 'Cast_22:0' shape=(None,) dtype=float32>), 'Functional': SemanticTensor(semantic=<Semantic.CATEGORICAL: 2>, tensor=<tf.Tensor 'data_54:0' shape=(None,) dtype=string>), 'Fireplaces': SemanticTensor(semantic=<Semantic.NUMERICAL: 1>, tensor=<tf.Tensor 'Cast_23:0' shape=(None,) dtype=float32>), 'FireplaceQu': SemanticTensor(semantic=<Semantic.CATEGORICAL: 2>, tensor=<tf.Tensor 'data_56:0' shape=(None,) dtype=string>), 'GarageType': SemanticTensor(semantic=<Semantic.CATEGORICAL: 2>, tensor=<tf.Tensor 'data_57:0' shape=(None,) dtype=string>), 'GarageYrBlt': SemanticTensor(semantic=<Semantic.NUMERICAL: 1>, tensor=<tf.Tensor 'Cast_24:0' shape=(None,) dtype=float32>), 'GarageFinish': SemanticTensor(semantic=<Semantic.CATEGORICAL: 2>, tensor=<tf.Tensor 'data_59:0' shape=(None,) dtype=string>), 'GarageCars': SemanticTensor(semantic=<Semantic.NUMERICAL: 1>, tensor=<tf.Tensor 'Cast_25:0' shape=(None,) dtype=float32>), 'GarageArea': SemanticTensor(semantic=<Semantic.NUMERICAL: 1>, tensor=<tf.Tensor 'Cast_26:0' shape=(None,) dtype=float32>), 'GarageQual': SemanticTensor(semantic=<Semantic.CATEGORICAL: 2>, tensor=<tf.Tensor 'data_62:0' shape=(None,) dtype=string>), 'GarageCond': SemanticTensor(semantic=<Semantic.CATEGORICAL: 2>, tensor=<tf.Tensor 'data_63:0' shape=(None,) dtype=string>), 'PavedDrive': SemanticTensor(semantic=<Semantic.CATEGORICAL: 2>, tensor=<tf.Tensor 'data_64:0' shape=(None,) dtype=string>), 'WoodDeckSF': SemanticTensor(semantic=<Semantic.NUMERICAL: 1>, tensor=<tf.Tensor 'Cast_27:0' shape=(None,) dtype=float32>), 'OpenPorchSF': SemanticTensor(semantic=<Semantic.NUMERICAL: 1>, tensor=<tf.Tensor 'Cast_28:0' shape=(None,) dtype=float32>), 'EnclosedPorch': SemanticTensor(semantic=<Semantic.NUMERICAL: 1>, tensor=<tf.Tensor 'Cast_29:0' shape=(None,) dtype=float32>), '3SsnPorch': SemanticTensor(semantic=<Semantic.NUMERICAL: 1>, tensor=<tf.Tensor 'Cast_30:0' shape=(None,) dtype=float32>), 'ScreenPorch': SemanticTensor(semantic=<Semantic.NUMERICAL: 1>, tensor=<tf.Tensor 'Cast_31:0' shape=(None,) dtype=float32>), 'PoolArea': SemanticTensor(semantic=<Semantic.NUMERICAL: 1>, tensor=<tf.Tensor 'Cast_32:0' shape=(None,) dtype=float32>), 'PoolQC': SemanticTensor(semantic=<Semantic.CATEGORICAL: 2>, tensor=<tf.Tensor 'data_71:0' shape=(None,) dtype=string>), 'Fence': SemanticTensor(semantic=<Semantic.CATEGORICAL: 2>, tensor=<tf.Tensor 'data_72:0' shape=(None,) dtype=string>), 'MiscFeature': SemanticTensor(semantic=<Semantic.CATEGORICAL: 2>, tensor=<tf.Tensor 'data_73:0' shape=(None,) dtype=string>), 'MiscVal': SemanticTensor(semantic=<Semantic.NUMERICAL: 1>, tensor=<tf.Tensor 'Cast_33:0' shape=(None,) dtype=float32>), 'MoSold': SemanticTensor(semantic=<Semantic.NUMERICAL: 1>, tensor=<tf.Tensor 'Cast_34:0' shape=(None,) dtype=float32>), 'YrSold': SemanticTensor(semantic=<Semantic.NUMERICAL: 1>, tensor=<tf.Tensor 'Cast_35:0' shape=(None,) dtype=float32>), 'SaleType': SemanticTensor(semantic=<Semantic.CATEGORICAL: 2>, tensor=<tf.Tensor 'data_77:0' shape=(None,) dtype=string>), 'SaleCondition': SemanticTensor(semantic=<Semantic.CATEGORICAL: 2>, tensor=<tf.Tensor 'data_78:0' shape=(None,) dtype=string>)}\n"
     ]
    },
    {
     "name": "stderr",
     "output_type": "stream",
     "text": [
      "W0000 00:00:1751529970.626396  162668 gradient_boosted_trees.cc:1873] \"goss_alpha\" set but \"sampling_method\" not equal to \"GOSS\".\n",
      "W0000 00:00:1751529970.626407  162668 gradient_boosted_trees.cc:1883] \"goss_beta\" set but \"sampling_method\" not equal to \"GOSS\".\n",
      "W0000 00:00:1751529970.626408  162668 gradient_boosted_trees.cc:1897] \"selective_gradient_boosting_ratio\" set but \"sampling_method\" not equal to \"SELGB\".\n"
     ]
    },
    {
     "name": "stdout",
     "output_type": "stream",
     "text": [
      "Training dataset read in 0:00:00.341283. Found 2335 examples.\n",
      "Training model...\n",
      "Standard output detected as not visible to the user e.g. running in a notebook. Creating a training log redirection. If training gets stuck, try calling tfdf.keras.set_training_logs_redirection(False).\n",
      "Model trained in 0:00:25.030632\n",
      "Compiling model...\n",
      "Model compiled.\n"
     ]
    },
    {
     "data": {
      "text/plain": [
       "<tf_keras.src.callbacks.History at 0x30c46f620>"
      ]
     },
     "execution_count": 53,
     "metadata": {},
     "output_type": "execute_result"
    }
   ],
   "source": [
    "#Tune and fit the model \n",
    "\n",
    "tuned_gradientBTM = tfdf.keras.GradientBoostedTreesModel(tuner=tuner, task = tfdf.keras.Task.REGRESSION)\n",
    "\n",
    "tuned_gradientBTM.fit(train_ds, verbose=2)"
   ]
  },
  {
   "cell_type": "code",
   "execution_count": 54,
   "id": "6175f8ba-90c2-4b5f-af47-482cd79f9d0a",
   "metadata": {},
   "outputs": [],
   "source": [
    "#compile new tuned model to obtain MSE score\n",
    "\n",
    "tuned_gradientBTM.compile(optimizer='adam', loss='mse', metrics=['mse'])"
   ]
  },
  {
   "cell_type": "code",
   "execution_count": 55,
   "id": "dc6d0061-2074-4b2e-86a7-d07d0ef1eda2",
   "metadata": {},
   "outputs": [
    {
     "name": "stdout",
     "output_type": "stream",
     "text": [
      "1/1 [==============================] - 0s 146ms/step - loss: 1737490944.0000 - mse: 1737490944.0000\n"
     ]
    },
    {
     "data": {
      "text/plain": [
       "[1737490944.0, 1737490944.0]"
      ]
     },
     "execution_count": 55,
     "metadata": {},
     "output_type": "execute_result"
    }
   ],
   "source": [
    "#Evaluate MSE score\n",
    "\n",
    "tuned_mse_gbtm_score = tuned_gradientBTM.evaluate(test_ds)\n",
    "\n",
    "tuned_mse_gbtm_score"
   ]
  },
  {
   "cell_type": "code",
   "execution_count": 56,
   "id": "1fba8b25-e04a-4843-9e3b-dfbe11cc2bf7",
   "metadata": {},
   "outputs": [
    {
     "data": {
      "text/plain": [
       "array([41683.22137263, 41683.22137263])"
      ]
     },
     "execution_count": 56,
     "metadata": {},
     "output_type": "execute_result"
    }
   ],
   "source": [
    "# find RMSE score from MSE \n",
    "\n",
    "tuned_rmse_gbtm = np.sqrt(tuned_mse_gbtm_score)\n",
    "\n",
    "tuned_rmse_gbtm"
   ]
  },
  {
   "cell_type": "code",
   "execution_count": null,
   "id": "3efacf1c-7dc1-41b3-b37e-be8acd0e4656",
   "metadata": {},
   "outputs": [],
   "source": []
  },
  {
   "cell_type": "code",
   "execution_count": 57,
   "id": "edcf3322-f389-41fb-8efa-3cd4ae2c56d3",
   "metadata": {},
   "outputs": [
    {
     "data": {
      "text/plain": [
       "array([23.1505798, 23.1505798])"
      ]
     },
     "execution_count": 57,
     "metadata": {},
     "output_type": "execute_result"
    }
   ],
   "source": [
    "#calculate the percent that the RMSE is within the mean target value from the original dataset. \n",
    "\n",
    "mean = sales_df['SalePrice'].mean()\n",
    "\n",
    "percent = tuned_rmse_gbtm / mean * 100\n",
    "\n",
    "percent"
   ]
  },
  {
   "cell_type": "code",
   "execution_count": 58,
   "id": "395cbcd4-a205-487f-a94a-2ea046dfa534",
   "metadata": {},
   "outputs": [],
   "source": [
    "# attempt one more method with automated tuner function. Create new tuner\n",
    "\n",
    "tuner2 = tfdf.tuner.RandomSearch(num_trials=50, use_predefined_hps=True)"
   ]
  },
  {
   "cell_type": "code",
   "execution_count": 59,
   "id": "9f614322-3864-4535-9a4e-39399a44a10b",
   "metadata": {
    "scrolled": true
   },
   "outputs": [
    {
     "name": "stdout",
     "output_type": "stream",
     "text": [
      "Use /var/folders/wd/yyjz2gbj6_37z_mcyx9sr4000000gn/T/tmpimhzjxy0 as temporary training directory\n",
      "Reading training dataset...\n",
      "Training tensor examples:\n",
      "Features: {'MSSubClass': <tf.Tensor 'data:0' shape=(None,) dtype=int64>, 'MSZoning': <tf.Tensor 'data_1:0' shape=(None,) dtype=string>, 'LotFrontage': <tf.Tensor 'data_2:0' shape=(None,) dtype=float64>, 'LotArea': <tf.Tensor 'data_3:0' shape=(None,) dtype=int64>, 'Street': <tf.Tensor 'data_4:0' shape=(None,) dtype=string>, 'Alley': <tf.Tensor 'data_5:0' shape=(None,) dtype=string>, 'LotShape': <tf.Tensor 'data_6:0' shape=(None,) dtype=string>, 'LandContour': <tf.Tensor 'data_7:0' shape=(None,) dtype=string>, 'Utilities': <tf.Tensor 'data_8:0' shape=(None,) dtype=string>, 'LotConfig': <tf.Tensor 'data_9:0' shape=(None,) dtype=string>, 'LandSlope': <tf.Tensor 'data_10:0' shape=(None,) dtype=string>, 'Neighborhood': <tf.Tensor 'data_11:0' shape=(None,) dtype=string>, 'Condition1': <tf.Tensor 'data_12:0' shape=(None,) dtype=string>, 'Condition2': <tf.Tensor 'data_13:0' shape=(None,) dtype=string>, 'BldgType': <tf.Tensor 'data_14:0' shape=(None,) dtype=string>, 'HouseStyle': <tf.Tensor 'data_15:0' shape=(None,) dtype=string>, 'OverallQual': <tf.Tensor 'data_16:0' shape=(None,) dtype=int64>, 'OverallCond': <tf.Tensor 'data_17:0' shape=(None,) dtype=int64>, 'YearBuilt': <tf.Tensor 'data_18:0' shape=(None,) dtype=int64>, 'YearRemodAdd': <tf.Tensor 'data_19:0' shape=(None,) dtype=int64>, 'RoofStyle': <tf.Tensor 'data_20:0' shape=(None,) dtype=string>, 'RoofMatl': <tf.Tensor 'data_21:0' shape=(None,) dtype=string>, 'Exterior1st': <tf.Tensor 'data_22:0' shape=(None,) dtype=string>, 'Exterior2nd': <tf.Tensor 'data_23:0' shape=(None,) dtype=string>, 'MasVnrType': <tf.Tensor 'data_24:0' shape=(None,) dtype=string>, 'MasVnrArea': <tf.Tensor 'data_25:0' shape=(None,) dtype=float64>, 'ExterQual': <tf.Tensor 'data_26:0' shape=(None,) dtype=string>, 'ExterCond': <tf.Tensor 'data_27:0' shape=(None,) dtype=string>, 'Foundation': <tf.Tensor 'data_28:0' shape=(None,) dtype=string>, 'BsmtQual': <tf.Tensor 'data_29:0' shape=(None,) dtype=string>, 'BsmtCond': <tf.Tensor 'data_30:0' shape=(None,) dtype=string>, 'BsmtExposure': <tf.Tensor 'data_31:0' shape=(None,) dtype=string>, 'BsmtFinType1': <tf.Tensor 'data_32:0' shape=(None,) dtype=string>, 'BsmtFinSF1': <tf.Tensor 'data_33:0' shape=(None,) dtype=float64>, 'BsmtFinType2': <tf.Tensor 'data_34:0' shape=(None,) dtype=string>, 'BsmtFinSF2': <tf.Tensor 'data_35:0' shape=(None,) dtype=float64>, 'BsmtUnfSF': <tf.Tensor 'data_36:0' shape=(None,) dtype=float64>, 'TotalBsmtSF': <tf.Tensor 'data_37:0' shape=(None,) dtype=float64>, 'Heating': <tf.Tensor 'data_38:0' shape=(None,) dtype=string>, 'HeatingQC': <tf.Tensor 'data_39:0' shape=(None,) dtype=string>, 'CentralAir': <tf.Tensor 'data_40:0' shape=(None,) dtype=string>, 'Electrical': <tf.Tensor 'data_41:0' shape=(None,) dtype=string>, '1stFlrSF': <tf.Tensor 'data_42:0' shape=(None,) dtype=int64>, '2ndFlrSF': <tf.Tensor 'data_43:0' shape=(None,) dtype=int64>, 'LowQualFinSF': <tf.Tensor 'data_44:0' shape=(None,) dtype=int64>, 'GrLivArea': <tf.Tensor 'data_45:0' shape=(None,) dtype=int64>, 'BsmtFullBath': <tf.Tensor 'data_46:0' shape=(None,) dtype=float64>, 'BsmtHalfBath': <tf.Tensor 'data_47:0' shape=(None,) dtype=float64>, 'FullBath': <tf.Tensor 'data_48:0' shape=(None,) dtype=int64>, 'HalfBath': <tf.Tensor 'data_49:0' shape=(None,) dtype=int64>, 'BedroomAbvGr': <tf.Tensor 'data_50:0' shape=(None,) dtype=int64>, 'KitchenAbvGr': <tf.Tensor 'data_51:0' shape=(None,) dtype=int64>, 'KitchenQual': <tf.Tensor 'data_52:0' shape=(None,) dtype=string>, 'TotRmsAbvGrd': <tf.Tensor 'data_53:0' shape=(None,) dtype=int64>, 'Functional': <tf.Tensor 'data_54:0' shape=(None,) dtype=string>, 'Fireplaces': <tf.Tensor 'data_55:0' shape=(None,) dtype=int64>, 'FireplaceQu': <tf.Tensor 'data_56:0' shape=(None,) dtype=string>, 'GarageType': <tf.Tensor 'data_57:0' shape=(None,) dtype=string>, 'GarageYrBlt': <tf.Tensor 'data_58:0' shape=(None,) dtype=float64>, 'GarageFinish': <tf.Tensor 'data_59:0' shape=(None,) dtype=string>, 'GarageCars': <tf.Tensor 'data_60:0' shape=(None,) dtype=float64>, 'GarageArea': <tf.Tensor 'data_61:0' shape=(None,) dtype=float64>, 'GarageQual': <tf.Tensor 'data_62:0' shape=(None,) dtype=string>, 'GarageCond': <tf.Tensor 'data_63:0' shape=(None,) dtype=string>, 'PavedDrive': <tf.Tensor 'data_64:0' shape=(None,) dtype=string>, 'WoodDeckSF': <tf.Tensor 'data_65:0' shape=(None,) dtype=int64>, 'OpenPorchSF': <tf.Tensor 'data_66:0' shape=(None,) dtype=int64>, 'EnclosedPorch': <tf.Tensor 'data_67:0' shape=(None,) dtype=int64>, '3SsnPorch': <tf.Tensor 'data_68:0' shape=(None,) dtype=int64>, 'ScreenPorch': <tf.Tensor 'data_69:0' shape=(None,) dtype=int64>, 'PoolArea': <tf.Tensor 'data_70:0' shape=(None,) dtype=int64>, 'PoolQC': <tf.Tensor 'data_71:0' shape=(None,) dtype=string>, 'Fence': <tf.Tensor 'data_72:0' shape=(None,) dtype=string>, 'MiscFeature': <tf.Tensor 'data_73:0' shape=(None,) dtype=string>, 'MiscVal': <tf.Tensor 'data_74:0' shape=(None,) dtype=int64>, 'MoSold': <tf.Tensor 'data_75:0' shape=(None,) dtype=int64>, 'YrSold': <tf.Tensor 'data_76:0' shape=(None,) dtype=int64>, 'SaleType': <tf.Tensor 'data_77:0' shape=(None,) dtype=string>, 'SaleCondition': <tf.Tensor 'data_78:0' shape=(None,) dtype=string>}\n",
      "Label: Tensor(\"data_79:0\", shape=(None,), dtype=int64)\n",
      "Weights: None\n",
      "Normalized tensor features:\n",
      " {'MSSubClass': SemanticTensor(semantic=<Semantic.NUMERICAL: 1>, tensor=<tf.Tensor 'Cast:0' shape=(None,) dtype=float32>), 'MSZoning': SemanticTensor(semantic=<Semantic.CATEGORICAL: 2>, tensor=<tf.Tensor 'data_1:0' shape=(None,) dtype=string>), 'LotFrontage': SemanticTensor(semantic=<Semantic.NUMERICAL: 1>, tensor=<tf.Tensor 'Cast_1:0' shape=(None,) dtype=float32>), 'LotArea': SemanticTensor(semantic=<Semantic.NUMERICAL: 1>, tensor=<tf.Tensor 'Cast_2:0' shape=(None,) dtype=float32>), 'Street': SemanticTensor(semantic=<Semantic.CATEGORICAL: 2>, tensor=<tf.Tensor 'data_4:0' shape=(None,) dtype=string>), 'Alley': SemanticTensor(semantic=<Semantic.CATEGORICAL: 2>, tensor=<tf.Tensor 'data_5:0' shape=(None,) dtype=string>), 'LotShape': SemanticTensor(semantic=<Semantic.CATEGORICAL: 2>, tensor=<tf.Tensor 'data_6:0' shape=(None,) dtype=string>), 'LandContour': SemanticTensor(semantic=<Semantic.CATEGORICAL: 2>, tensor=<tf.Tensor 'data_7:0' shape=(None,) dtype=string>), 'Utilities': SemanticTensor(semantic=<Semantic.CATEGORICAL: 2>, tensor=<tf.Tensor 'data_8:0' shape=(None,) dtype=string>), 'LotConfig': SemanticTensor(semantic=<Semantic.CATEGORICAL: 2>, tensor=<tf.Tensor 'data_9:0' shape=(None,) dtype=string>), 'LandSlope': SemanticTensor(semantic=<Semantic.CATEGORICAL: 2>, tensor=<tf.Tensor 'data_10:0' shape=(None,) dtype=string>), 'Neighborhood': SemanticTensor(semantic=<Semantic.CATEGORICAL: 2>, tensor=<tf.Tensor 'data_11:0' shape=(None,) dtype=string>), 'Condition1': SemanticTensor(semantic=<Semantic.CATEGORICAL: 2>, tensor=<tf.Tensor 'data_12:0' shape=(None,) dtype=string>), 'Condition2': SemanticTensor(semantic=<Semantic.CATEGORICAL: 2>, tensor=<tf.Tensor 'data_13:0' shape=(None,) dtype=string>), 'BldgType': SemanticTensor(semantic=<Semantic.CATEGORICAL: 2>, tensor=<tf.Tensor 'data_14:0' shape=(None,) dtype=string>), 'HouseStyle': SemanticTensor(semantic=<Semantic.CATEGORICAL: 2>, tensor=<tf.Tensor 'data_15:0' shape=(None,) dtype=string>), 'OverallQual': SemanticTensor(semantic=<Semantic.NUMERICAL: 1>, tensor=<tf.Tensor 'Cast_3:0' shape=(None,) dtype=float32>), 'OverallCond': SemanticTensor(semantic=<Semantic.NUMERICAL: 1>, tensor=<tf.Tensor 'Cast_4:0' shape=(None,) dtype=float32>), 'YearBuilt': SemanticTensor(semantic=<Semantic.NUMERICAL: 1>, tensor=<tf.Tensor 'Cast_5:0' shape=(None,) dtype=float32>), 'YearRemodAdd': SemanticTensor(semantic=<Semantic.NUMERICAL: 1>, tensor=<tf.Tensor 'Cast_6:0' shape=(None,) dtype=float32>), 'RoofStyle': SemanticTensor(semantic=<Semantic.CATEGORICAL: 2>, tensor=<tf.Tensor 'data_20:0' shape=(None,) dtype=string>), 'RoofMatl': SemanticTensor(semantic=<Semantic.CATEGORICAL: 2>, tensor=<tf.Tensor 'data_21:0' shape=(None,) dtype=string>), 'Exterior1st': SemanticTensor(semantic=<Semantic.CATEGORICAL: 2>, tensor=<tf.Tensor 'data_22:0' shape=(None,) dtype=string>), 'Exterior2nd': SemanticTensor(semantic=<Semantic.CATEGORICAL: 2>, tensor=<tf.Tensor 'data_23:0' shape=(None,) dtype=string>), 'MasVnrType': SemanticTensor(semantic=<Semantic.CATEGORICAL: 2>, tensor=<tf.Tensor 'data_24:0' shape=(None,) dtype=string>), 'MasVnrArea': SemanticTensor(semantic=<Semantic.NUMERICAL: 1>, tensor=<tf.Tensor 'Cast_7:0' shape=(None,) dtype=float32>), 'ExterQual': SemanticTensor(semantic=<Semantic.CATEGORICAL: 2>, tensor=<tf.Tensor 'data_26:0' shape=(None,) dtype=string>), 'ExterCond': SemanticTensor(semantic=<Semantic.CATEGORICAL: 2>, tensor=<tf.Tensor 'data_27:0' shape=(None,) dtype=string>), 'Foundation': SemanticTensor(semantic=<Semantic.CATEGORICAL: 2>, tensor=<tf.Tensor 'data_28:0' shape=(None,) dtype=string>), 'BsmtQual': SemanticTensor(semantic=<Semantic.CATEGORICAL: 2>, tensor=<tf.Tensor 'data_29:0' shape=(None,) dtype=string>), 'BsmtCond': SemanticTensor(semantic=<Semantic.CATEGORICAL: 2>, tensor=<tf.Tensor 'data_30:0' shape=(None,) dtype=string>), 'BsmtExposure': SemanticTensor(semantic=<Semantic.CATEGORICAL: 2>, tensor=<tf.Tensor 'data_31:0' shape=(None,) dtype=string>), 'BsmtFinType1': SemanticTensor(semantic=<Semantic.CATEGORICAL: 2>, tensor=<tf.Tensor 'data_32:0' shape=(None,) dtype=string>), 'BsmtFinSF1': SemanticTensor(semantic=<Semantic.NUMERICAL: 1>, tensor=<tf.Tensor 'Cast_8:0' shape=(None,) dtype=float32>), 'BsmtFinType2': SemanticTensor(semantic=<Semantic.CATEGORICAL: 2>, tensor=<tf.Tensor 'data_34:0' shape=(None,) dtype=string>), 'BsmtFinSF2': SemanticTensor(semantic=<Semantic.NUMERICAL: 1>, tensor=<tf.Tensor 'Cast_9:0' shape=(None,) dtype=float32>), 'BsmtUnfSF': SemanticTensor(semantic=<Semantic.NUMERICAL: 1>, tensor=<tf.Tensor 'Cast_10:0' shape=(None,) dtype=float32>), 'TotalBsmtSF': SemanticTensor(semantic=<Semantic.NUMERICAL: 1>, tensor=<tf.Tensor 'Cast_11:0' shape=(None,) dtype=float32>), 'Heating': SemanticTensor(semantic=<Semantic.CATEGORICAL: 2>, tensor=<tf.Tensor 'data_38:0' shape=(None,) dtype=string>), 'HeatingQC': SemanticTensor(semantic=<Semantic.CATEGORICAL: 2>, tensor=<tf.Tensor 'data_39:0' shape=(None,) dtype=string>), 'CentralAir': SemanticTensor(semantic=<Semantic.CATEGORICAL: 2>, tensor=<tf.Tensor 'data_40:0' shape=(None,) dtype=string>), 'Electrical': SemanticTensor(semantic=<Semantic.CATEGORICAL: 2>, tensor=<tf.Tensor 'data_41:0' shape=(None,) dtype=string>), '1stFlrSF': SemanticTensor(semantic=<Semantic.NUMERICAL: 1>, tensor=<tf.Tensor 'Cast_12:0' shape=(None,) dtype=float32>), '2ndFlrSF': SemanticTensor(semantic=<Semantic.NUMERICAL: 1>, tensor=<tf.Tensor 'Cast_13:0' shape=(None,) dtype=float32>), 'LowQualFinSF': SemanticTensor(semantic=<Semantic.NUMERICAL: 1>, tensor=<tf.Tensor 'Cast_14:0' shape=(None,) dtype=float32>), 'GrLivArea': SemanticTensor(semantic=<Semantic.NUMERICAL: 1>, tensor=<tf.Tensor 'Cast_15:0' shape=(None,) dtype=float32>), 'BsmtFullBath': SemanticTensor(semantic=<Semantic.NUMERICAL: 1>, tensor=<tf.Tensor 'Cast_16:0' shape=(None,) dtype=float32>), 'BsmtHalfBath': SemanticTensor(semantic=<Semantic.NUMERICAL: 1>, tensor=<tf.Tensor 'Cast_17:0' shape=(None,) dtype=float32>), 'FullBath': SemanticTensor(semantic=<Semantic.NUMERICAL: 1>, tensor=<tf.Tensor 'Cast_18:0' shape=(None,) dtype=float32>), 'HalfBath': SemanticTensor(semantic=<Semantic.NUMERICAL: 1>, tensor=<tf.Tensor 'Cast_19:0' shape=(None,) dtype=float32>), 'BedroomAbvGr': SemanticTensor(semantic=<Semantic.NUMERICAL: 1>, tensor=<tf.Tensor 'Cast_20:0' shape=(None,) dtype=float32>), 'KitchenAbvGr': SemanticTensor(semantic=<Semantic.NUMERICAL: 1>, tensor=<tf.Tensor 'Cast_21:0' shape=(None,) dtype=float32>), 'KitchenQual': SemanticTensor(semantic=<Semantic.CATEGORICAL: 2>, tensor=<tf.Tensor 'data_52:0' shape=(None,) dtype=string>), 'TotRmsAbvGrd': SemanticTensor(semantic=<Semantic.NUMERICAL: 1>, tensor=<tf.Tensor 'Cast_22:0' shape=(None,) dtype=float32>), 'Functional': SemanticTensor(semantic=<Semantic.CATEGORICAL: 2>, tensor=<tf.Tensor 'data_54:0' shape=(None,) dtype=string>), 'Fireplaces': SemanticTensor(semantic=<Semantic.NUMERICAL: 1>, tensor=<tf.Tensor 'Cast_23:0' shape=(None,) dtype=float32>), 'FireplaceQu': SemanticTensor(semantic=<Semantic.CATEGORICAL: 2>, tensor=<tf.Tensor 'data_56:0' shape=(None,) dtype=string>), 'GarageType': SemanticTensor(semantic=<Semantic.CATEGORICAL: 2>, tensor=<tf.Tensor 'data_57:0' shape=(None,) dtype=string>), 'GarageYrBlt': SemanticTensor(semantic=<Semantic.NUMERICAL: 1>, tensor=<tf.Tensor 'Cast_24:0' shape=(None,) dtype=float32>), 'GarageFinish': SemanticTensor(semantic=<Semantic.CATEGORICAL: 2>, tensor=<tf.Tensor 'data_59:0' shape=(None,) dtype=string>), 'GarageCars': SemanticTensor(semantic=<Semantic.NUMERICAL: 1>, tensor=<tf.Tensor 'Cast_25:0' shape=(None,) dtype=float32>), 'GarageArea': SemanticTensor(semantic=<Semantic.NUMERICAL: 1>, tensor=<tf.Tensor 'Cast_26:0' shape=(None,) dtype=float32>), 'GarageQual': SemanticTensor(semantic=<Semantic.CATEGORICAL: 2>, tensor=<tf.Tensor 'data_62:0' shape=(None,) dtype=string>), 'GarageCond': SemanticTensor(semantic=<Semantic.CATEGORICAL: 2>, tensor=<tf.Tensor 'data_63:0' shape=(None,) dtype=string>), 'PavedDrive': SemanticTensor(semantic=<Semantic.CATEGORICAL: 2>, tensor=<tf.Tensor 'data_64:0' shape=(None,) dtype=string>), 'WoodDeckSF': SemanticTensor(semantic=<Semantic.NUMERICAL: 1>, tensor=<tf.Tensor 'Cast_27:0' shape=(None,) dtype=float32>), 'OpenPorchSF': SemanticTensor(semantic=<Semantic.NUMERICAL: 1>, tensor=<tf.Tensor 'Cast_28:0' shape=(None,) dtype=float32>), 'EnclosedPorch': SemanticTensor(semantic=<Semantic.NUMERICAL: 1>, tensor=<tf.Tensor 'Cast_29:0' shape=(None,) dtype=float32>), '3SsnPorch': SemanticTensor(semantic=<Semantic.NUMERICAL: 1>, tensor=<tf.Tensor 'Cast_30:0' shape=(None,) dtype=float32>), 'ScreenPorch': SemanticTensor(semantic=<Semantic.NUMERICAL: 1>, tensor=<tf.Tensor 'Cast_31:0' shape=(None,) dtype=float32>), 'PoolArea': SemanticTensor(semantic=<Semantic.NUMERICAL: 1>, tensor=<tf.Tensor 'Cast_32:0' shape=(None,) dtype=float32>), 'PoolQC': SemanticTensor(semantic=<Semantic.CATEGORICAL: 2>, tensor=<tf.Tensor 'data_71:0' shape=(None,) dtype=string>), 'Fence': SemanticTensor(semantic=<Semantic.CATEGORICAL: 2>, tensor=<tf.Tensor 'data_72:0' shape=(None,) dtype=string>), 'MiscFeature': SemanticTensor(semantic=<Semantic.CATEGORICAL: 2>, tensor=<tf.Tensor 'data_73:0' shape=(None,) dtype=string>), 'MiscVal': SemanticTensor(semantic=<Semantic.NUMERICAL: 1>, tensor=<tf.Tensor 'Cast_33:0' shape=(None,) dtype=float32>), 'MoSold': SemanticTensor(semantic=<Semantic.NUMERICAL: 1>, tensor=<tf.Tensor 'Cast_34:0' shape=(None,) dtype=float32>), 'YrSold': SemanticTensor(semantic=<Semantic.NUMERICAL: 1>, tensor=<tf.Tensor 'Cast_35:0' shape=(None,) dtype=float32>), 'SaleType': SemanticTensor(semantic=<Semantic.CATEGORICAL: 2>, tensor=<tf.Tensor 'data_77:0' shape=(None,) dtype=string>), 'SaleCondition': SemanticTensor(semantic=<Semantic.CATEGORICAL: 2>, tensor=<tf.Tensor 'data_78:0' shape=(None,) dtype=string>)}\n"
     ]
    },
    {
     "name": "stderr",
     "output_type": "stream",
     "text": [
      "W0000 00:00:1751529996.398601  162668 gradient_boosted_trees.cc:1873] \"goss_alpha\" set but \"sampling_method\" not equal to \"GOSS\".\n",
      "W0000 00:00:1751529996.398611  162668 gradient_boosted_trees.cc:1883] \"goss_beta\" set but \"sampling_method\" not equal to \"GOSS\".\n",
      "W0000 00:00:1751529996.398613  162668 gradient_boosted_trees.cc:1897] \"selective_gradient_boosting_ratio\" set but \"sampling_method\" not equal to \"SELGB\".\n"
     ]
    },
    {
     "name": "stdout",
     "output_type": "stream",
     "text": [
      "Training dataset read in 0:00:00.331788. Found 2335 examples.\n",
      "Training model...\n",
      "Model trained in 0:50:16.841320\n",
      "Compiling model...\n",
      "Model compiled.\n",
      "CPU times: user 50min 19s, sys: 793 ms, total: 50min 20s\n",
      "Wall time: 50min 20s\n"
     ]
    },
    {
     "data": {
      "text/plain": [
       "<tf_keras.src.callbacks.History at 0x30c79c170>"
      ]
     },
     "execution_count": 59,
     "metadata": {},
     "output_type": "execute_result"
    }
   ],
   "source": [
    "%%time\n",
    "\n",
    "# Tune and fit\n",
    "\n",
    "tuned2_gradientBTM = tfdf.keras.GradientBoostedTreesModel(tuner=tuner2, task = tfdf.keras.Task.REGRESSION)\n",
    "tuned2_gradientBTM.fit(train_ds, verbose=2)"
   ]
  },
  {
   "cell_type": "code",
   "execution_count": 60,
   "id": "345c752d-73e9-402e-9f3d-314a060da1e6",
   "metadata": {},
   "outputs": [],
   "source": [
    "#compile new tuned2 model to obtain MSE score\n",
    "\n",
    "tuned2_gradientBTM.compile(optimizer='adam', loss='mse', metrics=['mse'])"
   ]
  },
  {
   "cell_type": "code",
   "execution_count": 61,
   "id": "62b59976-fb92-4235-ad05-5d4ef58cf7a6",
   "metadata": {},
   "outputs": [
    {
     "name": "stdout",
     "output_type": "stream",
     "text": [
      "1/1 [==============================] - 0s 156ms/step - loss: 1759180416.0000 - mse: 1759180416.0000\n"
     ]
    },
    {
     "data": {
      "text/plain": [
       "[1759180416.0, 1759180416.0]"
      ]
     },
     "execution_count": 61,
     "metadata": {},
     "output_type": "execute_result"
    }
   ],
   "source": [
    "#Evaluate MSE score\n",
    "\n",
    "tuned2_mse_gbtm_score = tuned2_gradientBTM.evaluate(test_ds)\n",
    "\n",
    "tuned2_mse_gbtm_score"
   ]
  },
  {
   "cell_type": "code",
   "execution_count": 62,
   "id": "a61e4e22-9a85-4293-8f49-eb3896ae6a5a",
   "metadata": {},
   "outputs": [
    {
     "data": {
      "text/plain": [
       "array([41942.58475583, 41942.58475583])"
      ]
     },
     "execution_count": 62,
     "metadata": {},
     "output_type": "execute_result"
    }
   ],
   "source": [
    "# find RMSE score from MSE \n",
    "\n",
    "tuned2_rmse_gbtm = np.sqrt(tuned2_mse_gbtm_score)\n",
    "\n",
    "tuned2_rmse_gbtm"
   ]
  },
  {
   "cell_type": "code",
   "execution_count": 63,
   "id": "9cf2f58d-5364-4b45-b0c0-e121b8d27c0d",
   "metadata": {},
   "outputs": [
    {
     "data": {
      "text/plain": [
       "{'INV_MEAN_MIN_DEPTH': [(\"GrLivArea\" (1; #38), 0.2295304530545052),\n",
       "  (\"OverallQual\" (1; #62), 0.21940808146021307),\n",
       "  (\"LotArea\" (1; #47), 0.21568110211602223),\n",
       "  (\"TotalBsmtSF\" (1; #73), 0.2117396025401758),\n",
       "  (\"Neighborhood\" (4; #59), 0.20697959259213228),\n",
       "  (\"GarageArea\" (1; #31), 0.2060995122173188),\n",
       "  (\"BsmtFinSF1\" (1; #8), 0.19312077903741376),\n",
       "  (\"LotFrontage\" (1; #49), 0.1921100886138632),\n",
       "  (\"2ndFlrSF\" (1; #1), 0.1913499498286707),\n",
       "  (\"FullBath\" (1; #29), 0.19110215515919887),\n",
       "  (\"3SsnPorch\" (1; #2), 0.190569438993369),\n",
       "  (\"TotRmsAbvGrd\" (1; #72), 0.19012328419310567),\n",
       "  (\"YearBuilt\" (1; #76), 0.18979054118007033),\n",
       "  (\"KitchenQual\" (4; #44), 0.18926865669362747),\n",
       "  (\"BedroomAbvGr\" (1; #4), 0.18898129436985742),\n",
       "  (\"BsmtQual\" (4; #14), 0.18851006557324854),\n",
       "  (\"Fence\" (4; #25), 0.18757718846446403),\n",
       "  (\"MasVnrType\" (4; #55), 0.1871948226599752),\n",
       "  (\"GarageYrBlt\" (1; #37), 0.1870941480973092),\n",
       "  (\"MoSold\" (1; #58), 0.18638824256615313),\n",
       "  (\"BsmtUnfSF\" (1; #15), 0.18609019683762887),\n",
       "  (\"1stFlrSF\" (1; #0), 0.18393258135298465),\n",
       "  (\"YrSold\" (1; #78), 0.1839219156584761),\n",
       "  (\"ScreenPorch\" (1; #70), 0.1838618656548806),\n",
       "  (\"Exterior2nd\" (4; #24), 0.18364493593915934),\n",
       "  (\"LotShape\" (4; #50), 0.18342017990878312),\n",
       "  (\"GarageFinish\" (4; #34), 0.1833093119394476),\n",
       "  (\"BsmtFinType1\" (4; #10), 0.1830545572856952),\n",
       "  (\"MasVnrArea\" (1; #54), 0.18282021318887579),\n",
       "  (\"Fireplaces\" (1; #27), 0.1828032108146409),\n",
       "  (\"HouseStyle\" (4; #42), 0.18251879937830412),\n",
       "  (\"KitchenAbvGr\" (1; #43), 0.1820877331534054),\n",
       "  (\"Functional\" (4; #30), 0.182045501997951),\n",
       "  (\"PoolArea\" (1; #64), 0.1818434090605863),\n",
       "  (\"Exterior1st\" (4; #23), 0.18162742176412536),\n",
       "  (\"OverallCond\" (1; #61), 0.18147308105103205),\n",
       "  (\"YearRemodAdd\" (1; #77), 0.18126694162544854),\n",
       "  (\"WoodDeckSF\" (1; #75), 0.18123129357745035),\n",
       "  (\"SaleType\" (4; #69), 0.18101377200868413),\n",
       "  (\"MSZoning\" (4; #53), 0.18087994506743119),\n",
       "  (\"Condition1\" (4; #17), 0.18084848883256086),\n",
       "  (\"SaleCondition\" (4; #68), 0.1807281705263283),\n",
       "  (\"OpenPorchSF\" (1; #60), 0.180655140030619),\n",
       "  (\"ExterQual\" (4; #22), 0.18057237835247744),\n",
       "  (\"LandContour\" (4; #45), 0.18049332688922315),\n",
       "  (\"FireplaceQu\" (4; #26), 0.18041219373507805),\n",
       "  (\"GarageCars\" (1; #32), 0.18038325374238015),\n",
       "  (\"ExterCond\" (4; #21), 0.1801031409580459),\n",
       "  (\"Heating\" (4; #40), 0.1799759170898687),\n",
       "  (\"Condition2\" (4; #18), 0.1798905111683834),\n",
       "  (\"BsmtExposure\" (4; #7), 0.17984397581169098),\n",
       "  (\"PavedDrive\" (4; #63), 0.17984141622821015),\n",
       "  (\"MSSubClass\" (1; #52), 0.17970811641116502),\n",
       "  (\"Foundation\" (4; #28), 0.17970161722777797),\n",
       "  (\"HeatingQC\" (4; #41), 0.1795159881023793),\n",
       "  (\"GarageType\" (4; #36), 0.17942334183713246),\n",
       "  (\"BsmtFinSF2\" (1; #9), 0.17923139409850972),\n",
       "  (\"BsmtCond\" (4; #6), 0.17919102625355576),\n",
       "  (\"HalfBath\" (1; #39), 0.17914478085161253),\n",
       "  (\"BldgType\" (4; #5), 0.17913845112408416),\n",
       "  (\"MiscVal\" (1; #57), 0.1791379990178052),\n",
       "  (\"EnclosedPorch\" (1; #20), 0.17910594638958502),\n",
       "  (\"LotConfig\" (4; #48), 0.17910594638958502),\n",
       "  (\"Electrical\" (4; #19), 0.17909556142454258)],\n",
       " 'SUM_SCORE': [(\"OverallQual\" (1; #62), 6110856024858.5),\n",
       "  (\"GrLivArea\" (1; #38), 5292961690245.75),\n",
       "  (\"Neighborhood\" (4; #59), 2395730628048.5),\n",
       "  (\"TotRmsAbvGrd\" (1; #72), 2018580635701.0),\n",
       "  (\"TotalBsmtSF\" (1; #73), 1758354646284.5),\n",
       "  (\"LotArea\" (1; #47), 1533608649886.5),\n",
       "  (\"1stFlrSF\" (1; #0), 1066413089153.0),\n",
       "  (\"BsmtFinSF1\" (1; #8), 941288935259.25),\n",
       "  (\"GarageArea\" (1; #31), 855690812688.5),\n",
       "  (\"GarageYrBlt\" (1; #37), 697010835828.0),\n",
       "  (\"OpenPorchSF\" (1; #60), 670037454384.0),\n",
       "  (\"Exterior2nd\" (4; #24), 508105058807.5),\n",
       "  (\"LotFrontage\" (1; #49), 442375212008.75),\n",
       "  (\"WoodDeckSF\" (1; #75), 418662217875.5),\n",
       "  (\"MasVnrArea\" (1; #54), 405496794234.0),\n",
       "  (\"YearRemodAdd\" (1; #77), 388147928151.0),\n",
       "  (\"MoSold\" (1; #58), 352865578745.375),\n",
       "  (\"BedroomAbvGr\" (1; #4), 348955283321.75),\n",
       "  (\"KitchenQual\" (4; #44), 309230552754.0),\n",
       "  (\"SaleType\" (4; #69), 301990191025.0),\n",
       "  (\"2ndFlrSF\" (1; #1), 296205613894.0),\n",
       "  (\"ScreenPorch\" (1; #70), 267365664459.875),\n",
       "  (\"BsmtUnfSF\" (1; #15), 260128218611.0),\n",
       "  (\"FireplaceQu\" (4; #26), 236159586320.0),\n",
       "  (\"FullBath\" (1; #29), 225700535214.5),\n",
       "  (\"YearBuilt\" (1; #76), 208563440794.0),\n",
       "  (\"Exterior1st\" (4; #23), 203237420622.0),\n",
       "  (\"OverallCond\" (1; #61), 188884391713.0),\n",
       "  (\"SaleCondition\" (4; #68), 164142233800.0),\n",
       "  (\"BsmtQual\" (4; #14), 154579869566.0),\n",
       "  (\"BsmtFinType1\" (4; #10), 114282961866.75),\n",
       "  (\"MSSubClass\" (1; #52), 114118857638.0),\n",
       "  (\"Heating\" (4; #40), 103209729876.0),\n",
       "  (\"LotShape\" (4; #50), 102418400141.875),\n",
       "  (\"Condition1\" (4; #17), 93013997612.0),\n",
       "  (\"BsmtExposure\" (4; #7), 89945857206.0),\n",
       "  (\"Functional\" (4; #30), 85481733603.125),\n",
       "  (\"ExterQual\" (4; #22), 84552340440.5),\n",
       "  (\"Fireplaces\" (1; #27), 73207767838.0),\n",
       "  (\"GarageCars\" (1; #32), 69173164760.0),\n",
       "  (\"GarageFinish\" (4; #34), 68465976334.0),\n",
       "  (\"YrSold\" (1; #78), 65564757395.75),\n",
       "  (\"MasVnrType\" (4; #55), 60823356090.75),\n",
       "  (\"3SsnPorch\" (1; #2), 43315944083.875),\n",
       "  (\"HouseStyle\" (4; #42), 39573441783.125),\n",
       "  (\"MSZoning\" (4; #53), 38045625656.5),\n",
       "  (\"GarageType\" (4; #36), 37930906093.5),\n",
       "  (\"PavedDrive\" (4; #63), 35341877341.0),\n",
       "  (\"HeatingQC\" (4; #41), 27675019703.0),\n",
       "  (\"LandContour\" (4; #45), 21543328689.125),\n",
       "  (\"KitchenAbvGr\" (1; #43), 18910229980.0),\n",
       "  (\"BsmtCond\" (4; #6), 18645568972.0),\n",
       "  (\"BldgType\" (4; #5), 15994440106.0),\n",
       "  (\"Foundation\" (4; #28), 14201270238.0),\n",
       "  (\"Electrical\" (4; #19), 13010337116.0),\n",
       "  (\"Fence\" (4; #25), 9781905685.5),\n",
       "  (\"HalfBath\" (1; #39), 9472746240.0),\n",
       "  (\"ExterCond\" (4; #21), 9393436232.0),\n",
       "  (\"LotConfig\" (4; #48), 6982214848.0),\n",
       "  (\"EnclosedPorch\" (1; #20), 5055709772.0),\n",
       "  (\"MiscVal\" (1; #57), 4635614300.0),\n",
       "  (\"PoolArea\" (1; #64), 4541584801.0),\n",
       "  (\"Condition2\" (4; #18), 3646919898.75),\n",
       "  (\"BsmtFinSF2\" (1; #9), 2518340768.0)],\n",
       " 'NUM_AS_ROOT': [(\"OverallQual\" (1; #62), 10.0),\n",
       "  (\"GarageArea\" (1; #31), 6.0),\n",
       "  (\"GrLivArea\" (1; #38), 6.0),\n",
       "  (\"LotArea\" (1; #47), 4.0),\n",
       "  (\"Fence\" (4; #25), 3.0),\n",
       "  (\"FullBath\" (1; #29), 3.0),\n",
       "  (\"LotFrontage\" (1; #49), 3.0),\n",
       "  (\"TotalBsmtSF\" (1; #73), 3.0),\n",
       "  (\"YearBuilt\" (1; #76), 3.0),\n",
       "  (\"2ndFlrSF\" (1; #1), 2.0),\n",
       "  (\"BsmtQual\" (4; #14), 2.0),\n",
       "  (\"KitchenQual\" (4; #44), 2.0),\n",
       "  (\"3SsnPorch\" (1; #2), 1.0),\n",
       "  (\"BsmtFinSF1\" (1; #8), 1.0),\n",
       "  (\"Fireplaces\" (1; #27), 1.0),\n",
       "  (\"KitchenAbvGr\" (1; #43), 1.0),\n",
       "  (\"PoolArea\" (1; #64), 1.0)],\n",
       " 'NUM_NODES': [(\"Neighborhood\" (4; #59), 114.0),\n",
       "  (\"GrLivArea\" (1; #38), 80.0),\n",
       "  (\"LotArea\" (1; #47), 72.0),\n",
       "  (\"TotalBsmtSF\" (1; #73), 50.0),\n",
       "  (\"BsmtFinSF1\" (1; #8), 42.0),\n",
       "  (\"GarageArea\" (1; #31), 37.0),\n",
       "  (\"1stFlrSF\" (1; #0), 32.0),\n",
       "  (\"MoSold\" (1; #58), 32.0),\n",
       "  (\"OverallQual\" (1; #62), 29.0),\n",
       "  (\"GarageYrBlt\" (1; #37), 27.0),\n",
       "  (\"LotFrontage\" (1; #49), 26.0),\n",
       "  (\"BsmtUnfSF\" (1; #15), 24.0),\n",
       "  (\"Exterior2nd\" (4; #24), 23.0),\n",
       "  (\"MasVnrArea\" (1; #54), 23.0),\n",
       "  (\"Exterior1st\" (4; #23), 22.0),\n",
       "  (\"BedroomAbvGr\" (1; #4), 21.0),\n",
       "  (\"WoodDeckSF\" (1; #75), 20.0),\n",
       "  (\"OpenPorchSF\" (1; #60), 19.0),\n",
       "  (\"OverallCond\" (1; #61), 19.0),\n",
       "  (\"2ndFlrSF\" (1; #1), 18.0),\n",
       "  (\"YearBuilt\" (1; #76), 16.0),\n",
       "  (\"BsmtFinType1\" (4; #10), 14.0),\n",
       "  (\"TotRmsAbvGrd\" (1; #72), 14.0),\n",
       "  (\"SaleType\" (4; #69), 12.0),\n",
       "  (\"YearRemodAdd\" (1; #77), 12.0),\n",
       "  (\"Functional\" (4; #30), 11.0),\n",
       "  (\"BsmtQual\" (4; #14), 10.0),\n",
       "  (\"FullBath\" (1; #29), 10.0),\n",
       "  (\"KitchenQual\" (4; #44), 10.0),\n",
       "  (\"YrSold\" (1; #78), 10.0),\n",
       "  (\"LotShape\" (4; #50), 9.0),\n",
       "  (\"3SsnPorch\" (1; #2), 8.0),\n",
       "  (\"ExterQual\" (4; #22), 8.0),\n",
       "  (\"MSSubClass\" (1; #52), 8.0),\n",
       "  (\"BsmtExposure\" (4; #7), 7.0),\n",
       "  (\"Heating\" (4; #40), 7.0),\n",
       "  (\"HouseStyle\" (4; #42), 7.0),\n",
       "  (\"SaleCondition\" (4; #68), 7.0),\n",
       "  (\"ScreenPorch\" (1; #70), 7.0),\n",
       "  (\"FireplaceQu\" (4; #26), 6.0),\n",
       "  (\"HeatingQC\" (4; #41), 6.0),\n",
       "  (\"MasVnrType\" (4; #55), 6.0),\n",
       "  (\"PavedDrive\" (4; #63), 6.0),\n",
       "  (\"Condition1\" (4; #17), 5.0),\n",
       "  (\"GarageFinish\" (4; #34), 5.0),\n",
       "  (\"GarageType\" (4; #36), 5.0),\n",
       "  (\"MSZoning\" (4; #53), 5.0),\n",
       "  (\"GarageCars\" (1; #32), 4.0),\n",
       "  (\"Fence\" (4; #25), 3.0),\n",
       "  (\"Fireplaces\" (1; #27), 3.0),\n",
       "  (\"KitchenAbvGr\" (1; #43), 3.0),\n",
       "  (\"LandContour\" (4; #45), 3.0),\n",
       "  (\"BldgType\" (4; #5), 2.0),\n",
       "  (\"BsmtCond\" (4; #6), 2.0),\n",
       "  (\"ExterCond\" (4; #21), 2.0),\n",
       "  (\"Foundation\" (4; #28), 2.0),\n",
       "  (\"BsmtFinSF2\" (1; #9), 1.0),\n",
       "  (\"Condition2\" (4; #18), 1.0),\n",
       "  (\"Electrical\" (4; #19), 1.0),\n",
       "  (\"EnclosedPorch\" (1; #20), 1.0),\n",
       "  (\"HalfBath\" (1; #39), 1.0),\n",
       "  (\"LotConfig\" (4; #48), 1.0),\n",
       "  (\"MiscVal\" (1; #57), 1.0),\n",
       "  (\"PoolArea\" (1; #64), 1.0)]}"
      ]
     },
     "execution_count": 63,
     "metadata": {},
     "output_type": "execute_result"
    }
   ],
   "source": [
    "#Look at the importance of each variable to the highest performing model to understand what contributes \n",
    "#more to home sale prices. Highest performing model was the tuned_gradientBTM that had the custom hyperparameter\n",
    "#tuning rather than using the auto tuning function\n",
    "\n",
    "variable_importance = tuned_gradientBTM.make_inspector().variable_importances()\n",
    "\n",
    "variable_importance"
   ]
  },
  {
   "cell_type": "code",
   "execution_count": 64,
   "id": "159fea1c-123f-4f56-aca8-3ad8d8178b71",
   "metadata": {},
   "outputs": [],
   "source": [
    "#creating a model for deployment purposes. Time constraints have made it difficult to learn how to properly\n",
    "#deploy a model with 70+ features. \n",
    "\n",
    "#Create new dataset with the variables that had the highest impact on the targert\n",
    "\n",
    "new_sales_df = sales_df[['GrLivArea', 'LotArea', 'OverallQual', 'SalePrice']].copy()"
   ]
  },
  {
   "cell_type": "code",
   "execution_count": 65,
   "id": "6e7e1647-fb96-4bdc-9763-c2957b07f434",
   "metadata": {},
   "outputs": [],
   "source": [
    "#split target and features\n",
    "\n",
    "n_sales_features = new_sales_df.drop(['SalePrice'], axis=1)\n",
    "\n",
    "n_sales_target = new_sales_df['SalePrice'].copy()"
   ]
  },
  {
   "cell_type": "code",
   "execution_count": 66,
   "id": "0be3b4c4-d231-4b96-9315-c65e0c46f387",
   "metadata": {},
   "outputs": [],
   "source": [
    "#Train test split new dataset\n",
    "\n",
    "n_x_train, n_x_test, n_y_train, n_y_test = train_test_split(n_sales_features, n_sales_target, test_size=.2, random_state=42)"
   ]
  },
  {
   "cell_type": "code",
   "execution_count": 67,
   "id": "8c65bd4d-9b09-4433-94a6-f25b4173eac7",
   "metadata": {},
   "outputs": [],
   "source": [
    "#fit and train the model\n",
    "\n",
    "deploy_model = randomfr.fit(n_x_train, n_y_train)"
   ]
  },
  {
   "cell_type": "code",
   "execution_count": 68,
   "id": "a8ec6620-8f4f-4af1-807d-f5316bc852fb",
   "metadata": {},
   "outputs": [],
   "source": [
    "#create prediction with the test set\n",
    "\n",
    "n_y_prediction = deploy_model.predict(n_x_test)"
   ]
  },
  {
   "cell_type": "code",
   "execution_count": 69,
   "id": "f32c8a00-a7bc-4d8e-91f7-22e16e7d81d1",
   "metadata": {},
   "outputs": [
    {
     "name": "stderr",
     "output_type": "stream",
     "text": [
      "/opt/anaconda3/lib/python3.12/site-packages/sklearn/metrics/_regression.py:492: FutureWarning: 'squared' is deprecated in version 1.4 and will be removed in 1.6. To calculate the root mean squared error, use the function'root_mean_squared_error'.\n",
      "  warnings.warn(\n"
     ]
    },
    {
     "data": {
      "text/plain": [
       "45242.61635082824"
      ]
     },
     "execution_count": 69,
     "metadata": {},
     "output_type": "execute_result"
    }
   ],
   "source": [
    "#review RMSE for the newest model. It performs not as well but the performance is less than a 1% difference in\n",
    "#the RMSE score from previous models. \n",
    "\n",
    "rmse_deploy_model = mean_squared_error(n_y_test, n_y_prediction, squared=False)\n",
    "\n",
    "rmse_deploy_model"
   ]
  },
  {
   "cell_type": "code",
   "execution_count": 70,
   "id": "98ea4f0d-5106-452d-bcc7-956f49b95ea0",
   "metadata": {},
   "outputs": [],
   "source": [
    "#save model that will be used for the deployment. Decided to use new random forest model for deployment\n",
    "\n",
    "import pickle \n",
    "d_model = 'savedmodel.sav'\n",
    "pickle.dump(deploy_model, open(d_model, 'wb'))"
   ]
  },
  {
   "cell_type": "code",
   "execution_count": null,
   "id": "9f249694-c5db-402f-8502-5d6e156af6a2",
   "metadata": {},
   "outputs": [],
   "source": []
  }
 ],
 "metadata": {
  "kernelspec": {
   "display_name": "Python 3 (ipykernel)",
   "language": "python",
   "name": "python3"
  },
  "language_info": {
   "codemirror_mode": {
    "name": "ipython",
    "version": 3
   },
   "file_extension": ".py",
   "mimetype": "text/x-python",
   "name": "python",
   "nbconvert_exporter": "python",
   "pygments_lexer": "ipython3",
   "version": "3.12.2"
  }
 },
 "nbformat": 4,
 "nbformat_minor": 5
}
